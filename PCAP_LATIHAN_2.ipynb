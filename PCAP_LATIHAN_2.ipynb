{
  "nbformat": 4,
  "nbformat_minor": 0,
  "metadata": {
    "colab": {
      "provenance": [],
      "authorship_tag": "ABX9TyMqeq0/WINX7F4GBeZzAXEX",
      "include_colab_link": true
    },
    "kernelspec": {
      "name": "python3",
      "display_name": "Python 3"
    },
    "language_info": {
      "name": "python"
    }
  },
  "cells": [
    {
      "cell_type": "markdown",
      "metadata": {
        "id": "view-in-github",
        "colab_type": "text"
      },
      "source": [
        "<a href=\"https://colab.research.google.com/github/Vicysaragih/PCAP_VICY/blob/main/PCAP_LATIHAN_2.ipynb\" target=\"_parent\"><img src=\"https://colab.research.google.com/assets/colab-badge.svg\" alt=\"Open In Colab\"/></a>"
      ]
    },
    {
      "cell_type": "markdown",
      "source": [
        "**1. What is the expected output of the following snippet ?**"
      ],
      "metadata": {
        "id": "WD22gw5F1nTw"
      }
    },
    {
      "cell_type": "code",
      "execution_count": 1,
      "metadata": {
        "colab": {
          "base_uri": "https://localhost:8080/"
        },
        "id": "xGDsyYVz1ejQ",
        "outputId": "4eebec87-5dbe-4420-92d7-845d9a72e857"
      },
      "outputs": [
        {
          "output_type": "stream",
          "name": "stdout",
          "text": [
            "['S', 'k', 'y', 'w', 'l', 'k']\n"
          ]
        }
      ],
      "source": [
        "my_list1=list('Skywalker')\n",
        "my_list2=list('Vader')\n",
        "my_list3=list(filter(lambda x: x not in my_list2, my_list1))\n",
        "print(my_list3)"
      ]
    },
    {
      "cell_type": "markdown",
      "source": [
        "**2. What is the expected output of the following code ?**"
      ],
      "metadata": {
        "id": "YbfKmTJj19_e"
      }
    },
    {
      "cell_type": "code",
      "source": [
        "class Gamma:\n",
        "    def __init__(self, val):\n",
        "        self.name = val\n",
        "    def __str__(self):\n",
        "        return \"I am \" + self.name + \" from Gamma\"\n",
        "\n",
        "class Delta:\n",
        "    def __init__(self, val):\n",
        "        self.name = val\n",
        "    def __str__(self):\n",
        "        return \"I am \" + self.name + \" from Delta\"\n",
        "\n",
        "class Beta(Gamma, Delta):\n",
        "    def __str__(self):\n",
        "        return super().__str__()\n",
        "\n",
        "class Omega(Beta):\n",
        "    omega = 3\n",
        "    pass\n",
        "\n",
        "o = Omega(\"omega\")\n",
        "print(o)"
      ],
      "metadata": {
        "colab": {
          "base_uri": "https://localhost:8080/"
        },
        "id": "recJOr9o154D",
        "outputId": "fda98ec9-62c8-475d-8670-bf2a2111d5bb"
      },
      "execution_count": 2,
      "outputs": [
        {
          "output_type": "stream",
          "name": "stdout",
          "text": [
            "I am omega from Gamma\n"
          ]
        }
      ]
    },
    {
      "cell_type": "code",
      "source": [
        "x = 5//2\n",
        "func = lambda x:+3\n",
        "print(func(x))"
      ],
      "metadata": {
        "colab": {
          "base_uri": "https://localhost:8080/"
        },
        "id": "cL9neOCw2o4W",
        "outputId": "04e83235-4794-471e-f5b8-2f5d4bf9ea25"
      },
      "execution_count": 6,
      "outputs": [
        {
          "output_type": "stream",
          "name": "stdout",
          "text": [
            "3\n"
          ]
        }
      ]
    },
    {
      "cell_type": "markdown",
      "source": [
        "**7. What is the expected output of the following snippet ?**\n"
      ],
      "metadata": {
        "id": "QOTu5RsP4Bt7"
      }
    },
    {
      "cell_type": "code",
      "source": [
        "l={}\n",
        "for i in 'Skywalker':\n",
        "    if i in 'Vader':\n",
        "       l[ord(i)]=i\n",
        "else:\n",
        "    l[ord('d')]='d'\n",
        "\n",
        "for j in l.keys():\n",
        "    print(l[j], end=' ')"
      ],
      "metadata": {
        "colab": {
          "base_uri": "https://localhost:8080/"
        },
        "id": "9kDC76aF3-rB",
        "outputId": "eea236fe-3aea-4027-eb1e-d2983db3dfbb"
      },
      "execution_count": 7,
      "outputs": [
        {
          "output_type": "stream",
          "name": "stdout",
          "text": [
            "a e r d "
          ]
        }
      ]
    },
    {
      "cell_type": "markdown",
      "source": [
        "**9. What is the expected output of the following code ?**"
      ],
      "metadata": {
        "id": "2fPiNkOV4nsq"
      }
    },
    {
      "cell_type": "code",
      "source": [
        "list_1 = list('Chewie')\n",
        "list_2 = list('Han')\n",
        "list_3 = list('Luke')\n",
        "\n",
        "try:\n",
        "    list_1=list_2\n",
        "    list_2.insert(0,list_3[0])\n",
        "    assert list_1[0] == 'H'\n",
        "except:\n",
        "    print('Error')\n",
        "else:\n",
        "    print('OK')\n",
        "finally:\n",
        "    print('Done')"
      ],
      "metadata": {
        "colab": {
          "base_uri": "https://localhost:8080/"
        },
        "id": "eS2EM0X04i47",
        "outputId": "c41588a8-5025-4e9e-fed7-52761a14e3da"
      },
      "execution_count": 8,
      "outputs": [
        {
          "output_type": "stream",
          "name": "stdout",
          "text": [
            "Error\n",
            "Done\n"
          ]
        }
      ]
    },
    {
      "cell_type": "markdown",
      "source": [
        "**11. What is the expected output of the following code ?**"
      ],
      "metadata": {
        "id": "HQvdJQOa47Tt"
      }
    },
    {
      "cell_type": "code",
      "source": [
        "class Feline:\n",
        "    def __init__(self, f=1):\n",
        "        self.f = +f\n",
        "        self.g = -f\n",
        "    def reset(self, f=2):\n",
        "        self.f += f\n",
        "        return self.f\n",
        "\n",
        "cat1 = Feline(2)\n",
        "cat2 = Feline(3)\n",
        "cat1 = cat2\n",
        "cat2.reset()\n",
        "print(cat1.f)"
      ],
      "metadata": {
        "colab": {
          "base_uri": "https://localhost:8080/"
        },
        "id": "05V5_7Bw44oR",
        "outputId": "5e9fa759-6bea-43ad-c876-1f8b355ec730"
      },
      "execution_count": 9,
      "outputs": [
        {
          "output_type": "stream",
          "name": "stdout",
          "text": [
            "5\n"
          ]
        }
      ]
    },
    {
      "cell_type": "markdown",
      "source": [
        "**12. 11. What is the expected output of the following code ?**"
      ],
      "metadata": {
        "id": "5SXVIHrM5JAh"
      }
    },
    {
      "cell_type": "code",
      "source": [
        "my_list = list('yoDA')\n",
        "print(''.join(my_list).capitalize())"
      ],
      "metadata": {
        "colab": {
          "base_uri": "https://localhost:8080/"
        },
        "id": "U9Bw1HOs5FgZ",
        "outputId": "d1e31248-c8ea-4a95-f472-5f9bab63790e"
      },
      "execution_count": 10,
      "outputs": [
        {
          "output_type": "stream",
          "name": "stdout",
          "text": [
            "Yoda\n"
          ]
        }
      ]
    },
    {
      "cell_type": "code",
      "source": [
        "class A:\n",
        "    a=0\n",
        "    def __init__(self, x, y):\n",
        "        self.b = x\n",
        "        self.c = y\n",
        "\n",
        "class B(A):\n",
        "    b = 0\n",
        "    def __init__(self, x, y, k):\n",
        "        super().__init__(x, y)\n",
        "        if k % 2 == 0:\n",
        "            self.e = k\n",
        "\n",
        "\n",
        "c = B(2,5,7)\n",
        "c.f = 4\n"
      ],
      "metadata": {
        "id": "CtF52OV75deN"
      },
      "execution_count": 11,
      "outputs": []
    },
    {
      "cell_type": "markdown",
      "source": [
        "**16. What is the expected output of the following code ?**"
      ],
      "metadata": {
        "id": "F3DrphOx6EFI"
      }
    },
    {
      "cell_type": "code",
      "source": [
        "class R:\n",
        "    def __init__(self):\n",
        "        self.T = 1\n",
        "    def r(self):\n",
        "        print('r')\n",
        "\n",
        "class S:\n",
        "    def __init__(self):\n",
        "        self.T = 2\n",
        "    def r(self):\n",
        "        print('s')\n",
        "\n",
        "class T(R, S):\n",
        "    def t(self):\n",
        "        self.r()\n",
        "\n",
        "t = T()\n",
        "t.t()"
      ],
      "metadata": {
        "colab": {
          "base_uri": "https://localhost:8080/"
        },
        "id": "ReJCoRAo6Bv0",
        "outputId": "cc003fac-8d23-4620-d132-bf4242fa2bee"
      },
      "execution_count": 12,
      "outputs": [
        {
          "output_type": "stream",
          "name": "stdout",
          "text": [
            "r\n"
          ]
        }
      ]
    },
    {
      "cell_type": "markdown",
      "source": [
        "**18.  What is the expected output of the following code ?**"
      ],
      "metadata": {
        "id": "X08PCn2F64M5"
      }
    },
    {
      "cell_type": "code",
      "source": [
        "my_list = {'a': ord('a'), 'b': ord('b'), 'c': ord('c'), 'd': ord('d') }\n",
        "list=[]\n",
        "for i in sorted(my_list.keys()):\n",
        "    list.insert(-1,my_list[i])\n",
        "\n",
        "print(list)"
      ],
      "metadata": {
        "colab": {
          "base_uri": "https://localhost:8080/"
        },
        "id": "aUzTk7J46SE0",
        "outputId": "18292c5e-8563-4c3b-b01b-7e4b936f1a2f"
      },
      "execution_count": 14,
      "outputs": [
        {
          "output_type": "stream",
          "name": "stdout",
          "text": [
            "[98, 99, 100, 97]\n"
          ]
        }
      ]
    },
    {
      "cell_type": "markdown",
      "source": [
        "**19.  What is the expected output of the following code ?**"
      ],
      "metadata": {
        "id": "DitET08w67_Y"
      }
    },
    {
      "cell_type": "code",
      "source": [
        "x = 'Yoda 7'\n",
        "if x.isalpha():\n",
        "    print(1)\n",
        "elif x.isdigit():\n",
        "    print(2)\n",
        "elif x.isalnum():\n",
        "    print(3)\n",
        "else:\n",
        "    print(4)\n"
      ],
      "metadata": {
        "colab": {
          "base_uri": "https://localhost:8080/"
        },
        "id": "SFL6ChU562EZ",
        "outputId": "6aaf8961-7868-444c-f82a-f15ab6686424"
      },
      "execution_count": 15,
      "outputs": [
        {
          "output_type": "stream",
          "name": "stdout",
          "text": [
            "4\n"
          ]
        }
      ]
    },
    {
      "cell_type": "markdown",
      "source": [
        "**21. What is the expected output of the following snippet ?**"
      ],
      "metadata": {
        "id": "b-Q_BPqg7Rps"
      }
    },
    {
      "cell_type": "code",
      "source": [
        "class Jedi:\n",
        "    def __init__(self,name):\n",
        "        self.name = name\n",
        "    def __str__(self):\n",
        "        return \"I am Jedi \" + self.name\n",
        "\n",
        "class Sith:\n",
        "    def __init__(self,name):\n",
        "        self.name = name\n",
        "    def __str__(self):\n",
        "        return \"I am Sith \" + self.name\n",
        "\n",
        "class Padawan(Jedi,Sith):\n",
        "    def __init__(self,name):\n",
        "        self.name = name\n",
        "\n",
        "Baby_Yoda = Padawan('Baby Yoda')\n",
        "print(Baby_Yoda)"
      ],
      "metadata": {
        "colab": {
          "base_uri": "https://localhost:8080/"
        },
        "id": "fWbCxTry7OVB",
        "outputId": "79a41ea1-30eb-43d1-aba4-e11c0c4806e7"
      },
      "execution_count": 16,
      "outputs": [
        {
          "output_type": "stream",
          "name": "stdout",
          "text": [
            "I am Jedi Baby Yoda\n"
          ]
        }
      ]
    },
    {
      "cell_type": "markdown",
      "source": [
        "**22. What is the expected output of the code below?**"
      ],
      "metadata": {
        "id": "ze8L_9i57u8y"
      }
    },
    {
      "cell_type": "code",
      "source": [
        "my_l = [[i+j for i in range(1,5,1)] for j in range(-1,6,3)]\n",
        "my_p =[]\n",
        "\n",
        "for l in my_l:\n",
        "    for k in l:\n",
        "        if k not in my_p:\n",
        "            my_p.append(k)\n",
        "\n",
        "print(my_p)"
      ],
      "metadata": {
        "colab": {
          "base_uri": "https://localhost:8080/"
        },
        "id": "WKpVLQRl7saK",
        "outputId": "e0c64344-e5e7-4075-a71d-3dd4b7afc44a"
      },
      "execution_count": 17,
      "outputs": [
        {
          "output_type": "stream",
          "name": "stdout",
          "text": [
            "[0, 1, 2, 3, 4, 5, 6, 7, 8, 9]\n"
          ]
        }
      ]
    },
    {
      "cell_type": "markdown",
      "source": [
        "**23. You want to find the square root of 576. You created the following code:**"
      ],
      "metadata": {
        "id": "GBiE4CXv8IVB"
      }
    },
    {
      "cell_type": "code",
      "source": [
        "from math import sqrt as s\n",
        "\n",
        "sqrt=(576,)\n",
        "result = s(sqrt[0])\n",
        "print(result)"
      ],
      "metadata": {
        "colab": {
          "base_uri": "https://localhost:8080/"
        },
        "id": "WtxWlGQY8Ae5",
        "outputId": "60fdc28d-5ee7-4fdb-de9c-1fd1ae55d496"
      },
      "execution_count": 18,
      "outputs": [
        {
          "output_type": "stream",
          "name": "stdout",
          "text": [
            "24.0\n"
          ]
        }
      ]
    },
    {
      "cell_type": "markdown",
      "source": [
        "**24.  What is the expected output of the code below?**"
      ],
      "metadata": {
        "id": "mkLeuzrI8SXv"
      }
    },
    {
      "cell_type": "code",
      "source": [
        "class A:\n",
        "    X = 2\n",
        "    def __init__(self, a, b):\n",
        "        self.x = a + b\n",
        "        self.__y = a - b\n",
        "\n",
        "a = A(3,2)\n",
        "a.__z = 0\n",
        "print(a.__dict__)"
      ],
      "metadata": {
        "colab": {
          "base_uri": "https://localhost:8080/"
        },
        "id": "wb8QcfYW8QUf",
        "outputId": "b9e01e7a-537b-43f1-b422-505fa2dfe5e8"
      },
      "execution_count": 19,
      "outputs": [
        {
          "output_type": "stream",
          "name": "stdout",
          "text": [
            "{'x': 5, '_A__y': 1, '__z': 0}\n"
          ]
        }
      ]
    },
    {
      "cell_type": "code",
      "source": [
        "from platform import machine\n",
        "print(machine())"
      ],
      "metadata": {
        "colab": {
          "base_uri": "https://localhost:8080/"
        },
        "id": "FiPCS0dD8cqM",
        "outputId": "80aeded3-b3af-4b97-9b79-26fcd61db86b"
      },
      "execution_count": 20,
      "outputs": [
        {
          "output_type": "stream",
          "name": "stdout",
          "text": [
            "x86_64\n"
          ]
        }
      ]
    },
    {
      "cell_type": "markdown",
      "source": [
        "**26. What is the expected output of the following snippet ?**"
      ],
      "metadata": {
        "id": "iPUgu7cG8u6A"
      }
    },
    {
      "cell_type": "code",
      "source": [
        "x='luke'\n",
        "y='Luke'\n",
        "\n",
        "if x > y:\n",
        "    print('Han')\n",
        "elif x < y:\n",
        "    print('Leia')\n",
        "elif x==y:\n",
        "    print('Ben')\n",
        "else:\n",
        "    print('Chewie')"
      ],
      "metadata": {
        "colab": {
          "base_uri": "https://localhost:8080/"
        },
        "id": "UJJeQUVv8sf7",
        "outputId": "1f1a6253-0b7f-4fa1-b77b-03f2a2a4101c"
      },
      "execution_count": 21,
      "outputs": [
        {
          "output_type": "stream",
          "name": "stdout",
          "text": [
            "Han\n"
          ]
        }
      ]
    },
    {
      "cell_type": "markdown",
      "source": [
        "28.  What is the expected output of the following snippet ?"
      ],
      "metadata": {
        "id": "xb0l-b9m9lfd"
      }
    },
    {
      "cell_type": "code",
      "source": [
        "class Mammal:\n",
        "    def __init__(self,val):\n",
        "        self.__name = val\n",
        "\n",
        "class Feline(Mammal):\n",
        "    pass\n",
        "\n",
        "class Cat(Feline):\n",
        "    __bases=[2,3]\n",
        "    def __str__(self):\n",
        "        return self.name\n",
        "\n",
        "mycat = Cat('Garfield')\n",
        "\n",
        "print(Cat.__bases__[0].__name__)\n",
        "print(len(Cat.__bases__))"
      ],
      "metadata": {
        "colab": {
          "base_uri": "https://localhost:8080/"
        },
        "id": "l2xMBE3p89Bh",
        "outputId": "b45c299b-b13d-48d1-967b-fcaf9f6652a7"
      },
      "execution_count": 24,
      "outputs": [
        {
          "output_type": "stream",
          "name": "stdout",
          "text": [
            "Feline\n",
            "1\n"
          ]
        }
      ]
    },
    {
      "cell_type": "markdown",
      "source": [
        "**29.  What is the expected output of the following snippet ?**"
      ],
      "metadata": {
        "id": "aI6j75Fx9nes"
      }
    },
    {
      "cell_type": "code",
      "source": [
        "x=0\n",
        "y=3\n",
        "\n",
        "try:\n",
        "    print(x%y)\n",
        "    assert bool(y) == False\n",
        "    print(y/x)\n",
        "except ZeroDivisionError:\n",
        "    print('Error 1')\n",
        "except AssertionError:\n",
        "    print('Error 2')\n",
        "except BaseException:\n",
        "    print('Error 3')\n",
        "finally:\n",
        "    print('Done')"
      ],
      "metadata": {
        "colab": {
          "base_uri": "https://localhost:8080/"
        },
        "id": "ETZcCkr69jWb",
        "outputId": "c3151856-e05c-48b8-ebc6-3708eb2a19da"
      },
      "execution_count": 25,
      "outputs": [
        {
          "output_type": "stream",
          "name": "stdout",
          "text": [
            "0\n",
            "Error 2\n",
            "Done\n"
          ]
        }
      ]
    },
    {
      "cell_type": "markdown",
      "source": [
        "**30.  What is the expected output of the following snippet ?**"
      ],
      "metadata": {
        "id": "k1jjal1291oB"
      }
    },
    {
      "cell_type": "code",
      "source": [
        "my_list = ['apple', 'koala', '1234Bz', 'Polo']\n",
        "my_list.sort(key = lambda x: x[::-1])\n",
        "print(my_list[0])"
      ],
      "metadata": {
        "colab": {
          "base_uri": "https://localhost:8080/"
        },
        "id": "oplrkwxa9zw4",
        "outputId": "8483d68c-a54b-46f9-b48d-66fcdeb9a2c7"
      },
      "execution_count": 26,
      "outputs": [
        {
          "output_type": "stream",
          "name": "stdout",
          "text": [
            "koala\n"
          ]
        }
      ]
    },
    {
      "cell_type": "markdown",
      "source": [
        "**33. What is the expected output of the following snippet ?**"
      ],
      "metadata": {
        "id": "c1QpH2_j-j3y"
      }
    },
    {
      "cell_type": "code",
      "source": [
        "def my_func(x,y):\n",
        "    return x*y\n",
        "\n",
        "try:\n",
        "    print(my_func('C3PO',2))\n",
        "except TypeError:\n",
        "    print('TypeError')\n",
        "except ValueError:\n",
        "    print('ValueError')\n",
        "except:\n",
        "    print('Error')\n",
        "else:\n",
        "    print('OK')\n",
        "finally:\n",
        "    print('Done')"
      ],
      "metadata": {
        "colab": {
          "base_uri": "https://localhost:8080/"
        },
        "id": "NbZqBkcC-iEy",
        "outputId": "2e446dca-e71a-4edc-cdcc-9e73a9fca482"
      },
      "execution_count": 27,
      "outputs": [
        {
          "output_type": "stream",
          "name": "stdout",
          "text": [
            "C3POC3PO\n",
            "OK\n",
            "Done\n"
          ]
        }
      ]
    },
    {
      "cell_type": "markdown",
      "source": [
        "**34. What is the expected output of the following snippet ?**"
      ],
      "metadata": {
        "id": "qk6gOHgp-y2n"
      }
    },
    {
      "cell_type": "code",
      "source": [
        "class A:\n",
        "    def __init__(self, x=5):\n",
        "        self.x = x\n",
        "\n",
        "class B(A):\n",
        "    def __init__(self, y=2):\n",
        "        super().__init__(y)\n",
        "    def set(self, y):\n",
        "        self.x = y + 3\n",
        "        return self.x\n",
        "\n",
        "b = B()\n",
        "print(b.set(b.x + 2))"
      ],
      "metadata": {
        "colab": {
          "base_uri": "https://localhost:8080/"
        },
        "id": "ySazfclC-wtr",
        "outputId": "aba6d15a-77ac-4dbc-9621-e12ee65ea554"
      },
      "execution_count": 28,
      "outputs": [
        {
          "output_type": "stream",
          "name": "stdout",
          "text": [
            "7\n"
          ]
        }
      ]
    },
    {
      "cell_type": "markdown",
      "source": [
        "**36. What is the expected output of the following snippet ?**"
      ],
      "metadata": {
        "id": "rlIFG05z_Gtc"
      }
    },
    {
      "cell_type": "code",
      "source": [
        "try:\n",
        "    raise Exception\n",
        "except Exception as e:\n",
        "    print(type(e.args))"
      ],
      "metadata": {
        "colab": {
          "base_uri": "https://localhost:8080/"
        },
        "id": "8vTsVFHf_Er_",
        "outputId": "e3de0722-4fcd-49af-cf3d-636da05484e6"
      },
      "execution_count": 29,
      "outputs": [
        {
          "output_type": "stream",
          "name": "stdout",
          "text": [
            "<class 'tuple'>\n"
          ]
        }
      ]
    },
    {
      "cell_type": "markdown",
      "source": [
        "**39. What is the expected output of the following code ?**"
      ],
      "metadata": {
        "id": "L6LnnIX0AGQZ"
      }
    },
    {
      "cell_type": "code",
      "source": [
        "class Omega:\n",
        "    def __init__(self):\n",
        "        self.set(3)\n",
        "    def set(self, x):\n",
        "        self.x = x//2\n",
        "\n",
        "class Lambda(Omega):\n",
        "    L = 4\n",
        "    def __init__(self):\n",
        "        super().__init__()\n",
        "    def __str__(self):\n",
        "        return str(self.x/3)[-1]\n",
        "    def set(self, x):\n",
        "        self.x = x//2 + 1\n",
        "\n",
        "L = Lambda()\n",
        "print(L)"
      ],
      "metadata": {
        "colab": {
          "base_uri": "https://localhost:8080/"
        },
        "id": "vLzX6xJWADv0",
        "outputId": "a4f516c1-f7e8-42c2-f1cb-df9c18a0fe10"
      },
      "execution_count": 30,
      "outputs": [
        {
          "output_type": "stream",
          "name": "stdout",
          "text": [
            "6\n"
          ]
        }
      ]
    },
    {
      "cell_type": "code",
      "source": [
        "x = \"Leo and Chloe love apple pie\"\n",
        "y = x.split()\n",
        "z = sorted(y)\n",
        "print(z[1])"
      ],
      "metadata": {
        "id": "zBqLjfm-AREo",
        "outputId": "b8ce241c-4400-4407-daa6-a806dee12b80",
        "colab": {
          "base_uri": "https://localhost:8080/"
        }
      },
      "execution_count": 31,
      "outputs": [
        {
          "output_type": "stream",
          "name": "stdout",
          "text": [
            "Leo\n"
          ]
        }
      ]
    }
  ]
}