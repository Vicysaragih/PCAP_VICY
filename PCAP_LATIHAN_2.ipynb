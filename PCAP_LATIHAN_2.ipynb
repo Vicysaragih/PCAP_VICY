{
  "nbformat": 4,
  "nbformat_minor": 0,
  "metadata": {
    "colab": {
      "provenance": [],
      "authorship_tag": "ABX9TyNrnBwDHYjd272aJKJ3qFXp",
      "include_colab_link": true
    },
    "kernelspec": {
      "name": "python3",
      "display_name": "Python 3"
    },
    "language_info": {
      "name": "python"
    }
  },
  "cells": [
    {
      "cell_type": "markdown",
      "metadata": {
        "id": "view-in-github",
        "colab_type": "text"
      },
      "source": [
        "<a href=\"https://colab.research.google.com/github/Vicysaragih/PCAP_VICY/blob/main/PCAP_LATIHAN_2.ipynb\" target=\"_parent\"><img src=\"https://colab.research.google.com/assets/colab-badge.svg\" alt=\"Open In Colab\"/></a>"
      ]
    },
    {
      "cell_type": "markdown",
      "source": [
        "**1. What is the expected output of the following snippet ?**"
      ],
      "metadata": {
        "id": "WD22gw5F1nTw"
      }
    },
    {
      "cell_type": "code",
      "execution_count": null,
      "metadata": {
        "colab": {
          "base_uri": "https://localhost:8080/"
        },
        "id": "xGDsyYVz1ejQ",
        "outputId": "4eebec87-5dbe-4420-92d7-845d9a72e857"
      },
      "outputs": [
        {
          "output_type": "stream",
          "name": "stdout",
          "text": [
            "['S', 'k', 'y', 'w', 'l', 'k']\n"
          ]
        }
      ],
      "source": [
        "my_list1=list('Skywalker')\n",
        "my_list2=list('Vader')\n",
        "my_list3=list(filter(lambda x: x not in my_list2, my_list1))\n",
        "print(my_list3)"
      ]
    },
    {
      "cell_type": "markdown",
      "source": [
        "**2. What is the expected output of the following code ?**"
      ],
      "metadata": {
        "id": "YbfKmTJj19_e"
      }
    },
    {
      "cell_type": "code",
      "source": [
        "class Gamma:\n",
        "    def __init__(self, val):\n",
        "        self.name = val\n",
        "    def __str__(self):\n",
        "        return \"I am \" + self.name + \" from Gamma\"\n",
        "\n",
        "class Delta:\n",
        "    def __init__(self, val):\n",
        "        self.name = val\n",
        "    def __str__(self):\n",
        "        return \"I am \" + self.name + \" from Delta\"\n",
        "\n",
        "class Beta(Gamma, Delta):\n",
        "    def __str__(self):\n",
        "        return super().__str__()\n",
        "\n",
        "class Omega(Beta):\n",
        "    omega = 3\n",
        "    pass\n",
        "\n",
        "o = Omega(\"omega\")\n",
        "print(o)"
      ],
      "metadata": {
        "colab": {
          "base_uri": "https://localhost:8080/"
        },
        "id": "recJOr9o154D",
        "outputId": "fda98ec9-62c8-475d-8670-bf2a2111d5bb"
      },
      "execution_count": null,
      "outputs": [
        {
          "output_type": "stream",
          "name": "stdout",
          "text": [
            "I am omega from Gamma\n"
          ]
        }
      ]
    },
    {
      "cell_type": "markdown",
      "source": [
        "**3. You want to read the content of file Stars.txt file and retrieve its first five lines.**\n",
        "\n",
        "You started writing the following Python snippet"
      ],
      "metadata": {
        "id": "o49sP7-uBoh8"
      }
    },
    {
      "cell_type": "code",
      "source": [
        "# this code is to create the file Stars.txt - this creates a files with 10 lines\n",
        "try:\n",
        "    f = open('Stars.txt', 'wt')\n",
        "    for i in range(10):\n",
        "        s = \"line #\" + str(i+1) + \"\\n\"\n",
        "        f.write(s)\n",
        "    f.close()\n",
        "except:\n",
        "    print(\"I/O error occurred:\")\n",
        "# End of code\n",
        "\n",
        "# Now this part of the code is to read the file Stars.txt\n",
        "f = open('Stars.txt', 'rt')\n",
        "data = f.readlines()[:5]\n",
        "f.close()\n",
        "\n",
        "# Now print the content from variable data to check if we read the file correctly:\n",
        "print(data)        # ['line #1\\n', 'line #2\\n', 'line #3\\n', 'line #4\\n', 'line #5\\n']"
      ],
      "metadata": {
        "colab": {
          "base_uri": "https://localhost:8080/"
        },
        "id": "ufmbMlgiBkxf",
        "outputId": "28981675-de50-4552-fef8-ce7216240042"
      },
      "execution_count": 1,
      "outputs": [
        {
          "output_type": "stream",
          "name": "stdout",
          "text": [
            "['line #1\\n', 'line #2\\n', 'line #3\\n', 'line #4\\n', 'line #5\\n']\n"
          ]
        }
      ]
    },
    {
      "cell_type": "code",
      "source": [
        "# this code is to create the file Stars.txt - this creates a files with 10 lines\n",
        "try:\n",
        "    f = open('Stars.txt', 'wt')\n",
        "    for i in range(10):\n",
        "        s = \"line #\" + str(i+1) + \"\\n\"\n",
        "        f.write(s)\n",
        "    f.close()\n",
        "except:\n",
        "    print(\"I/O error occurred:\")\n",
        "# End of code\n",
        "\n",
        "# Now this part of the code is to read the file Stars.txt\n",
        "f = open('Stars.txt', 'rt')\n",
        "data = f.readlines(5)\n",
        "f.close()\n",
        "\n",
        "# Now print the content from variable data to check if we read the file correctly:\n",
        "print(data)"
      ],
      "metadata": {
        "colab": {
          "base_uri": "https://localhost:8080/"
        },
        "id": "aH9Uyq-KB5Ms",
        "outputId": "c2599345-6538-4cf4-c1b4-f9c24941aeb6"
      },
      "execution_count": 2,
      "outputs": [
        {
          "output_type": "stream",
          "name": "stdout",
          "text": [
            "['line #1\\n']\n"
          ]
        }
      ]
    },
    {
      "cell_type": "code",
      "source": [
        "# this code is to create the file Stars.txt - this creates a files with 10 lines\n",
        "try:\n",
        "    f = open('Stars.txt', 'wt')\n",
        "    for i in range(10):\n",
        "        s = \"line #\" + str(i+1) + \"\\n\"\n",
        "        f.write(s)\n",
        "    f.close()\n",
        "except:\n",
        "    print(\"I/O error occurred:\")\n",
        "# End of code\n",
        "\n",
        "# Now this part of the code is to read the file Stars.txt\n",
        "f = open('Stars.txt', 'rt')\n",
        "data = f.readline(5)\n",
        "f.close()\n",
        "\n",
        "# Now print the content from variable data to check if we read the file correctly:\n",
        "print(data)"
      ],
      "metadata": {
        "colab": {
          "base_uri": "https://localhost:8080/"
        },
        "id": "dD_EZ8CKB-FE",
        "outputId": "dc86a7a8-87d4-40f2-f22a-93c8e05096ea"
      },
      "execution_count": 3,
      "outputs": [
        {
          "output_type": "stream",
          "name": "stdout",
          "text": [
            "line \n"
          ]
        }
      ]
    },
    {
      "cell_type": "code",
      "source": [
        "# this code is to create the file Stars.txt - this creates a files with 10 lines\n",
        "try:\n",
        "    f = open('Stars.txt', 'wt')\n",
        "    for i in range(10):\n",
        "        s = \"line #\" + str(i+1) + \"\\n\"\n",
        "        f.write(s)\n",
        "    f.close()\n",
        "except:\n",
        "    print(\"I/O error occurred:\")\n",
        "# End of code\n",
        "\n",
        "# Now this part of the code is to read the file Stars.txt\n",
        "f = open('Stars.txt', 'rt')\n",
        "data = f.read(5)\n",
        "f.close()\n",
        "\n",
        "# Now print the content from variable data to check if we read the file correctly:\n",
        "print(data)"
      ],
      "metadata": {
        "colab": {
          "base_uri": "https://localhost:8080/"
        },
        "id": "ZcBJpwBICBJI",
        "outputId": "94d26b37-7ced-4ad1-da14-e2a43fee2bc3"
      },
      "execution_count": 4,
      "outputs": [
        {
          "output_type": "stream",
          "name": "stdout",
          "text": [
            "line \n"
          ]
        }
      ]
    },
    {
      "cell_type": "markdown",
      "source": [
        "**4. What is the expected output of the following code**"
      ],
      "metadata": {
        "id": "SbIW8So1CvM5"
      }
    },
    {
      "cell_type": "code",
      "source": [
        "class Game:\n",
        "    def __init__(self, val):\n",
        "        if val %2 ==0 :\n",
        "            self.__g = val\n",
        "        self.G = val + 1\n",
        "\n",
        "g= Game(4)\n",
        "#print(g.__g)         # AttributeError\n",
        "print(g._Game__g)     # 4\n",
        "print(g.G)            # 5"
      ],
      "metadata": {
        "colab": {
          "base_uri": "https://localhost:8080/"
        },
        "id": "yJ4zHzY3Crvi",
        "outputId": "9c5ed796-2be5-42d8-da33-6e168b2951b6"
      },
      "execution_count": 5,
      "outputs": [
        {
          "output_type": "stream",
          "name": "stdout",
          "text": [
            "4\n",
            "5\n"
          ]
        }
      ]
    },
    {
      "cell_type": "code",
      "source": [
        "x = 5//2\n",
        "func = lambda x:+3\n",
        "print(func(x))"
      ],
      "metadata": {
        "colab": {
          "base_uri": "https://localhost:8080/"
        },
        "id": "cL9neOCw2o4W",
        "outputId": "04e83235-4794-471e-f5b8-2f5d4bf9ea25"
      },
      "execution_count": null,
      "outputs": [
        {
          "output_type": "stream",
          "name": "stdout",
          "text": [
            "3\n"
          ]
        }
      ]
    },
    {
      "cell_type": "markdown",
      "source": [
        "**7. What is the expected output of the following snippet ?**\n"
      ],
      "metadata": {
        "id": "QOTu5RsP4Bt7"
      }
    },
    {
      "cell_type": "code",
      "source": [
        "l={}\n",
        "for i in 'Skywalker':\n",
        "    if i in 'Vader':\n",
        "       l[ord(i)]=i\n",
        "else:\n",
        "    l[ord('d')]='d'\n",
        "\n",
        "for j in l.keys():\n",
        "    print(l[j], end=' ')"
      ],
      "metadata": {
        "colab": {
          "base_uri": "https://localhost:8080/"
        },
        "id": "9kDC76aF3-rB",
        "outputId": "eea236fe-3aea-4027-eb1e-d2983db3dfbb"
      },
      "execution_count": null,
      "outputs": [
        {
          "output_type": "stream",
          "name": "stdout",
          "text": [
            "a e r d "
          ]
        }
      ]
    },
    {
      "cell_type": "markdown",
      "source": [
        "**9. What is the expected output of the following code ?**"
      ],
      "metadata": {
        "id": "2fPiNkOV4nsq"
      }
    },
    {
      "cell_type": "code",
      "source": [
        "list_1 = list('Chewie')\n",
        "list_2 = list('Han')\n",
        "list_3 = list('Luke')\n",
        "\n",
        "try:\n",
        "    list_1=list_2\n",
        "    list_2.insert(0,list_3[0])\n",
        "    assert list_1[0] == 'H'\n",
        "except:\n",
        "    print('Error')\n",
        "else:\n",
        "    print('OK')\n",
        "finally:\n",
        "    print('Done')"
      ],
      "metadata": {
        "colab": {
          "base_uri": "https://localhost:8080/"
        },
        "id": "eS2EM0X04i47",
        "outputId": "c41588a8-5025-4e9e-fed7-52761a14e3da"
      },
      "execution_count": null,
      "outputs": [
        {
          "output_type": "stream",
          "name": "stdout",
          "text": [
            "Error\n",
            "Done\n"
          ]
        }
      ]
    },
    {
      "cell_type": "markdown",
      "source": [
        "**11. What is the expected output of the following code ?**"
      ],
      "metadata": {
        "id": "HQvdJQOa47Tt"
      }
    },
    {
      "cell_type": "code",
      "source": [
        "class Feline:\n",
        "    def __init__(self, f=1):\n",
        "        self.f = +f\n",
        "        self.g = -f\n",
        "    def reset(self, f=2):\n",
        "        self.f += f\n",
        "        return self.f\n",
        "\n",
        "cat1 = Feline(2)\n",
        "cat2 = Feline(3)\n",
        "cat1 = cat2\n",
        "cat2.reset()\n",
        "print(cat1.f)"
      ],
      "metadata": {
        "colab": {
          "base_uri": "https://localhost:8080/"
        },
        "id": "05V5_7Bw44oR",
        "outputId": "5e9fa759-6bea-43ad-c876-1f8b355ec730"
      },
      "execution_count": null,
      "outputs": [
        {
          "output_type": "stream",
          "name": "stdout",
          "text": [
            "5\n"
          ]
        }
      ]
    },
    {
      "cell_type": "markdown",
      "source": [
        "**12. 11. What is the expected output of the following code ?**"
      ],
      "metadata": {
        "id": "5SXVIHrM5JAh"
      }
    },
    {
      "cell_type": "code",
      "source": [
        "my_list = list('yoDA')\n",
        "print(''.join(my_list).capitalize())"
      ],
      "metadata": {
        "colab": {
          "base_uri": "https://localhost:8080/"
        },
        "id": "U9Bw1HOs5FgZ",
        "outputId": "d1e31248-c8ea-4a95-f472-5f9bab63790e"
      },
      "execution_count": null,
      "outputs": [
        {
          "output_type": "stream",
          "name": "stdout",
          "text": [
            "Yoda\n"
          ]
        }
      ]
    },
    {
      "cell_type": "code",
      "source": [
        "class A:\n",
        "    a=0\n",
        "    def __init__(self, x, y):\n",
        "        self.b = x\n",
        "        self.c = y\n",
        "\n",
        "class B(A):\n",
        "    b = 0\n",
        "    def __init__(self, x, y, k):\n",
        "        super().__init__(x, y)\n",
        "        if k % 2 == 0:\n",
        "            self.e = k\n",
        "\n",
        "\n",
        "c = B(2,5,7)\n",
        "c.f = 4\n"
      ],
      "metadata": {
        "id": "CtF52OV75deN"
      },
      "execution_count": null,
      "outputs": []
    },
    {
      "cell_type": "markdown",
      "source": [
        "**16. What is the expected output of the following code ?**"
      ],
      "metadata": {
        "id": "F3DrphOx6EFI"
      }
    },
    {
      "cell_type": "code",
      "source": [
        "class R:\n",
        "    def __init__(self):\n",
        "        self.T = 1\n",
        "    def r(self):\n",
        "        print('r')\n",
        "\n",
        "class S:\n",
        "    def __init__(self):\n",
        "        self.T = 2\n",
        "    def r(self):\n",
        "        print('s')\n",
        "\n",
        "class T(R, S):\n",
        "    def t(self):\n",
        "        self.r()\n",
        "\n",
        "t = T()\n",
        "t.t()"
      ],
      "metadata": {
        "colab": {
          "base_uri": "https://localhost:8080/"
        },
        "id": "ReJCoRAo6Bv0",
        "outputId": "cc003fac-8d23-4620-d132-bf4242fa2bee"
      },
      "execution_count": null,
      "outputs": [
        {
          "output_type": "stream",
          "name": "stdout",
          "text": [
            "r\n"
          ]
        }
      ]
    },
    {
      "cell_type": "markdown",
      "source": [
        "**18.  What is the expected output of the following code ?**"
      ],
      "metadata": {
        "id": "X08PCn2F64M5"
      }
    },
    {
      "cell_type": "code",
      "source": [
        "my_list = {'a': ord('a'), 'b': ord('b'), 'c': ord('c'), 'd': ord('d') }\n",
        "list=[]\n",
        "for i in sorted(my_list.keys()):\n",
        "    list.insert(-1,my_list[i])\n",
        "\n",
        "print(list)"
      ],
      "metadata": {
        "colab": {
          "base_uri": "https://localhost:8080/"
        },
        "id": "aUzTk7J46SE0",
        "outputId": "18292c5e-8563-4c3b-b01b-7e4b936f1a2f"
      },
      "execution_count": null,
      "outputs": [
        {
          "output_type": "stream",
          "name": "stdout",
          "text": [
            "[98, 99, 100, 97]\n"
          ]
        }
      ]
    },
    {
      "cell_type": "markdown",
      "source": [
        "**19.  What is the expected output of the following code ?**"
      ],
      "metadata": {
        "id": "DitET08w67_Y"
      }
    },
    {
      "cell_type": "code",
      "source": [
        "x = 'Yoda 7'\n",
        "if x.isalpha():\n",
        "    print(1)\n",
        "elif x.isdigit():\n",
        "    print(2)\n",
        "elif x.isalnum():\n",
        "    print(3)\n",
        "else:\n",
        "    print(4)\n"
      ],
      "metadata": {
        "colab": {
          "base_uri": "https://localhost:8080/"
        },
        "id": "SFL6ChU562EZ",
        "outputId": "6aaf8961-7868-444c-f82a-f15ab6686424"
      },
      "execution_count": null,
      "outputs": [
        {
          "output_type": "stream",
          "name": "stdout",
          "text": [
            "4\n"
          ]
        }
      ]
    },
    {
      "cell_type": "code",
      "source": [
        "x = 'Yoda 7'\n",
        "if x.isalpha():\n",
        "    print(1)\n",
        "elif x.isdigit():\n",
        "    print(2)\n",
        "elif x.isalnum():\n",
        "    print(3)\n",
        "else:\n",
        "    print(4)        # 4\n",
        "\n",
        "x = 'Yoda7'         # space has been removed\n",
        "if x.isalpha():\n",
        "    print(1)\n",
        "elif x.isdigit():\n",
        "    print(2)\n",
        "elif x.isalnum():\n",
        "    print(3)        # 3\n",
        "else:\n",
        "    print(4)\n",
        "\n",
        "x = 'Yoda'          # 7 has been removed\n",
        "if x.isalpha():\n",
        "    print(1)        # 1\n",
        "elif x.isdigit():\n",
        "    print(2)\n",
        "elif x.isalnum():\n",
        "    print(3)\n",
        "else:\n",
        "    print(4)"
      ],
      "metadata": {
        "colab": {
          "base_uri": "https://localhost:8080/"
        },
        "id": "6pkpJCb06K2S",
        "outputId": "a9a58782-ce1a-4b24-b312-fa7e8c28fe39"
      },
      "execution_count": null,
      "outputs": [
        {
          "output_type": "stream",
          "name": "stdout",
          "text": [
            "4\n",
            "3\n",
            "1\n"
          ]
        }
      ]
    },
    {
      "cell_type": "markdown",
      "source": [
        "**21. What is the expected output of the following snippet ?**"
      ],
      "metadata": {
        "id": "b-Q_BPqg7Rps"
      }
    },
    {
      "cell_type": "code",
      "source": [
        "class Jedi:\n",
        "    def __init__(self,name):\n",
        "        self.name = name\n",
        "    def __str__(self):\n",
        "        return \"I am Jedi \" + self.name\n",
        "\n",
        "class Sith:\n",
        "    def __init__(self,name):\n",
        "        self.name = name\n",
        "    def __str__(self):\n",
        "        return \"I am Sith \" + self.name\n",
        "\n",
        "class Padawan(Jedi,Sith):\n",
        "    def __init__(self,name):\n",
        "        self.name = name\n",
        "\n",
        "Baby_Yoda = Padawan('Baby Yoda')\n",
        "print(Baby_Yoda)"
      ],
      "metadata": {
        "colab": {
          "base_uri": "https://localhost:8080/"
        },
        "id": "fWbCxTry7OVB",
        "outputId": "79a41ea1-30eb-43d1-aba4-e11c0c4806e7"
      },
      "execution_count": null,
      "outputs": [
        {
          "output_type": "stream",
          "name": "stdout",
          "text": [
            "I am Jedi Baby Yoda\n"
          ]
        }
      ]
    },
    {
      "cell_type": "markdown",
      "source": [
        "**22. What is the expected output of the code below?**"
      ],
      "metadata": {
        "id": "ze8L_9i57u8y"
      }
    },
    {
      "cell_type": "code",
      "source": [
        "my_l = [[i+j for i in range(1,5,1)] for j in range(-1,6,3)]\n",
        "my_p =[]\n",
        "\n",
        "for l in my_l:\n",
        "    for k in l:\n",
        "        if k not in my_p:\n",
        "            my_p.append(k)\n",
        "\n",
        "print(my_p)"
      ],
      "metadata": {
        "colab": {
          "base_uri": "https://localhost:8080/"
        },
        "id": "WKpVLQRl7saK",
        "outputId": "e0c64344-e5e7-4075-a71d-3dd4b7afc44a"
      },
      "execution_count": null,
      "outputs": [
        {
          "output_type": "stream",
          "name": "stdout",
          "text": [
            "[0, 1, 2, 3, 4, 5, 6, 7, 8, 9]\n"
          ]
        }
      ]
    },
    {
      "cell_type": "markdown",
      "source": [
        "**23. You want to find the square root of 576. You created the following code:**"
      ],
      "metadata": {
        "id": "GBiE4CXv8IVB"
      }
    },
    {
      "cell_type": "code",
      "source": [
        "from math import sqrt as s\n",
        "\n",
        "sqrt=(576,)\n",
        "result = s(sqrt[0])\n",
        "print(result)"
      ],
      "metadata": {
        "colab": {
          "base_uri": "https://localhost:8080/"
        },
        "id": "WtxWlGQY8Ae5",
        "outputId": "60fdc28d-5ee7-4fdb-de9c-1fd1ae55d496"
      },
      "execution_count": null,
      "outputs": [
        {
          "output_type": "stream",
          "name": "stdout",
          "text": [
            "24.0\n"
          ]
        }
      ]
    },
    {
      "cell_type": "markdown",
      "source": [
        "**24.  What is the expected output of the code below?**"
      ],
      "metadata": {
        "id": "mkLeuzrI8SXv"
      }
    },
    {
      "cell_type": "code",
      "source": [
        "class A:\n",
        "    X = 2\n",
        "    def __init__(self, a, b):\n",
        "        self.x = a + b\n",
        "        self.__y = a - b\n",
        "\n",
        "a = A(3,2)\n",
        "a.__z = 0\n",
        "print(a.__dict__)"
      ],
      "metadata": {
        "colab": {
          "base_uri": "https://localhost:8080/"
        },
        "id": "wb8QcfYW8QUf",
        "outputId": "b9e01e7a-537b-43f1-b422-505fa2dfe5e8"
      },
      "execution_count": null,
      "outputs": [
        {
          "output_type": "stream",
          "name": "stdout",
          "text": [
            "{'x': 5, '_A__y': 1, '__z': 0}\n"
          ]
        }
      ]
    },
    {
      "cell_type": "markdown",
      "source": [
        "**25. What is the expected output of the code below?**"
      ],
      "metadata": {
        "id": "Odbh6OgG8jnJ"
      }
    },
    {
      "cell_type": "code",
      "source": [
        "from platform import machine\n",
        "print(machine())"
      ],
      "metadata": {
        "colab": {
          "base_uri": "https://localhost:8080/"
        },
        "id": "FiPCS0dD8cqM",
        "outputId": "80aeded3-b3af-4b97-9b79-26fcd61db86b"
      },
      "execution_count": null,
      "outputs": [
        {
          "output_type": "stream",
          "name": "stdout",
          "text": [
            "x86_64\n"
          ]
        }
      ]
    },
    {
      "cell_type": "code",
      "source": [
        "# results below will depend on your development environment (OS version, processor, etc...)\n",
        "from platform import platform, machine, processor, system, version, python_implementation\n",
        "\n",
        "print(platform())\n",
        "# Windows-10-10.0.19041-SP0\n",
        "\n",
        "print(machine())\n",
        "# AMD64\n",
        "\n",
        "print(processor())\n",
        "# Intel64 Family 6 Model 78 Stepping 3, GenuineIntel\n",
        "\n",
        "print(system())\n",
        "# Windows\n",
        "\n",
        "print(version())\n",
        "# 10.0.19041\n",
        "\n",
        "print(python_implementation())\n",
        "# CPython"
      ],
      "metadata": {
        "colab": {
          "base_uri": "https://localhost:8080/"
        },
        "id": "WDKKdU0d8hi6",
        "outputId": "41d2b553-c05d-46ed-9755-953e3dbcbe49"
      },
      "execution_count": null,
      "outputs": [
        {
          "output_type": "stream",
          "name": "stdout",
          "text": [
            "Linux-5.15.120+-x86_64-with-glibc2.35\n",
            "x86_64\n",
            "x86_64\n",
            "Linux\n",
            "#1 SMP Wed Aug 30 11:19:59 UTC 2023\n",
            "CPython\n"
          ]
        }
      ]
    },
    {
      "cell_type": "markdown",
      "source": [
        "**26. What is the expected output of the following snippet ?**"
      ],
      "metadata": {
        "id": "iPUgu7cG8u6A"
      }
    },
    {
      "cell_type": "code",
      "source": [
        "x='luke'\n",
        "y='Luke'\n",
        "\n",
        "if x > y:\n",
        "    print('Han')\n",
        "elif x < y:\n",
        "    print('Leia')\n",
        "elif x==y:\n",
        "    print('Ben')\n",
        "else:\n",
        "    print('Chewie')"
      ],
      "metadata": {
        "colab": {
          "base_uri": "https://localhost:8080/"
        },
        "id": "UJJeQUVv8sf7",
        "outputId": "1f1a6253-0b7f-4fa1-b77b-03f2a2a4101c"
      },
      "execution_count": null,
      "outputs": [
        {
          "output_type": "stream",
          "name": "stdout",
          "text": [
            "Han\n"
          ]
        }
      ]
    },
    {
      "cell_type": "markdown",
      "source": [
        "28.  What is the expected output of the following snippet ?"
      ],
      "metadata": {
        "id": "xb0l-b9m9lfd"
      }
    },
    {
      "cell_type": "code",
      "source": [
        "class Mammal:\n",
        "    def __init__(self,val):\n",
        "        self.__name = val\n",
        "\n",
        "class Feline(Mammal):\n",
        "    pass\n",
        "\n",
        "class Cat(Feline):\n",
        "    __bases=[2,3]\n",
        "    def __str__(self):\n",
        "        return self.name\n",
        "\n",
        "mycat = Cat('Garfield')\n",
        "\n",
        "print(Cat.__bases__[0].__name__)\n",
        "print(len(Cat.__bases__))"
      ],
      "metadata": {
        "colab": {
          "base_uri": "https://localhost:8080/"
        },
        "id": "l2xMBE3p89Bh",
        "outputId": "b45c299b-b13d-48d1-967b-fcaf9f6652a7"
      },
      "execution_count": null,
      "outputs": [
        {
          "output_type": "stream",
          "name": "stdout",
          "text": [
            "Feline\n",
            "1\n"
          ]
        }
      ]
    },
    {
      "cell_type": "markdown",
      "source": [
        "**29.  What is the expected output of the following snippet ?**"
      ],
      "metadata": {
        "id": "aI6j75Fx9nes"
      }
    },
    {
      "cell_type": "code",
      "source": [
        "x=0\n",
        "y=3\n",
        "\n",
        "try:\n",
        "    print(x%y)\n",
        "    assert bool(y) == False\n",
        "    print(y/x)\n",
        "except ZeroDivisionError:\n",
        "    print('Error 1')\n",
        "except AssertionError:\n",
        "    print('Error 2')\n",
        "except BaseException:\n",
        "    print('Error 3')\n",
        "finally:\n",
        "    print('Done')"
      ],
      "metadata": {
        "colab": {
          "base_uri": "https://localhost:8080/"
        },
        "id": "ETZcCkr69jWb",
        "outputId": "c3151856-e05c-48b8-ebc6-3708eb2a19da"
      },
      "execution_count": null,
      "outputs": [
        {
          "output_type": "stream",
          "name": "stdout",
          "text": [
            "0\n",
            "Error 2\n",
            "Done\n"
          ]
        }
      ]
    },
    {
      "cell_type": "markdown",
      "source": [
        "**30.  What is the expected output of the following snippet ?**"
      ],
      "metadata": {
        "id": "k1jjal1291oB"
      }
    },
    {
      "cell_type": "code",
      "source": [
        "my_list = ['apple', 'koala', '1234Bz', 'Polo']\n",
        "my_list.sort(key = lambda x: x[::-1])\n",
        "print(my_list[0])"
      ],
      "metadata": {
        "colab": {
          "base_uri": "https://localhost:8080/"
        },
        "id": "oplrkwxa9zw4",
        "outputId": "8483d68c-a54b-46f9-b48d-66fcdeb9a2c7"
      },
      "execution_count": null,
      "outputs": [
        {
          "output_type": "stream",
          "name": "stdout",
          "text": [
            "koala\n"
          ]
        }
      ]
    },
    {
      "cell_type": "markdown",
      "source": [
        "**32. Which snippet would you insert in order for the program to output the following result:**\n",
        "\n",
        "[1, 2, 4, 8, 16]"
      ],
      "metadata": {
        "id": "dB0lERYPAcDy"
      }
    },
    {
      "cell_type": "code",
      "source": [
        "def my_func(n):\n",
        "    pwr = 1\n",
        "    for i in range(n):\n",
        "        yield pwr  #zzz\n",
        "        pwr *= 2\n",
        "\n",
        "t = [x for x in my_func(5)]\n",
        "print(t)                        # [1, 2, 4, 8, 16]"
      ],
      "metadata": {
        "colab": {
          "base_uri": "https://localhost:8080/"
        },
        "id": "UBnp90uCAWvC",
        "outputId": "725f8c13-790d-4c01-b6b7-5f13a8d9bc60"
      },
      "execution_count": null,
      "outputs": [
        {
          "output_type": "stream",
          "name": "stdout",
          "text": [
            "[1, 2, 4, 8, 16]\n"
          ]
        }
      ]
    },
    {
      "cell_type": "markdown",
      "source": [
        "**33. What is the expected output of the following snippet ?**"
      ],
      "metadata": {
        "id": "c1QpH2_j-j3y"
      }
    },
    {
      "cell_type": "code",
      "source": [
        "def my_func(x,y):\n",
        "    return x*y\n",
        "\n",
        "try:\n",
        "    print(my_func('C3PO',2))\n",
        "except TypeError:\n",
        "    print('TypeError')\n",
        "except ValueError:\n",
        "    print('ValueError')\n",
        "except:\n",
        "    print('Error')\n",
        "else:\n",
        "    print('OK')\n",
        "finally:\n",
        "    print('Done')"
      ],
      "metadata": {
        "colab": {
          "base_uri": "https://localhost:8080/"
        },
        "id": "NbZqBkcC-iEy",
        "outputId": "2e446dca-e71a-4edc-cdcc-9e73a9fca482"
      },
      "execution_count": null,
      "outputs": [
        {
          "output_type": "stream",
          "name": "stdout",
          "text": [
            "C3POC3PO\n",
            "OK\n",
            "Done\n"
          ]
        }
      ]
    },
    {
      "cell_type": "markdown",
      "source": [
        "**34. What is the expected output of the following snippet ?**"
      ],
      "metadata": {
        "id": "qk6gOHgp-y2n"
      }
    },
    {
      "cell_type": "code",
      "source": [
        "class A:\n",
        "    def __init__(self, x=5):\n",
        "        self.x = x\n",
        "\n",
        "class B(A):\n",
        "    def __init__(self, y=2):\n",
        "        super().__init__(y)\n",
        "    def set(self, y):\n",
        "        self.x = y + 3\n",
        "        return self.x\n",
        "\n",
        "b = B()\n",
        "print(b.set(b.x + 2))"
      ],
      "metadata": {
        "colab": {
          "base_uri": "https://localhost:8080/"
        },
        "id": "ySazfclC-wtr",
        "outputId": "aba6d15a-77ac-4dbc-9621-e12ee65ea554"
      },
      "execution_count": null,
      "outputs": [
        {
          "output_type": "stream",
          "name": "stdout",
          "text": [
            "7\n"
          ]
        }
      ]
    },
    {
      "cell_type": "markdown",
      "source": [
        "**35. You want to read the content of a file named Stars.bin.**\n",
        "\n",
        "You started creating the Python code below:"
      ],
      "metadata": {
        "id": "hcQPVwE9Krmb"
      }
    },
    {
      "cell_type": "code",
      "source": [
        "# this code is to create the file Stars.bin\n",
        "init = bytearray(10)\n",
        "\n",
        "for i in range(len(init)):\n",
        "    init[i] = 10 + i\n",
        "\n",
        "try:\n",
        "    f = open('Stars.bin', 'wb')\n",
        "    f.write(init)\n",
        "    f.close()\n",
        "except:\n",
        "    print(\"I/O error occurred:\")\n",
        "# End of code\n",
        "\n",
        "# Now this part of the code is to read the file Stars.bin\n",
        "data = bytearray(10)\n",
        "\n",
        "# Let's print the content of data before reading the file:\n",
        "for b in data:\n",
        "    print(hex(b), end=' ')         # 0x0 0x0 0x0 0x0 0x0 0x0 0x0 0x0 0x0 0x0\n",
        "print('\\n')\n",
        "\n",
        "try:\n",
        "    f = open('Stars.bin', 'rb')\n",
        "    f.readinto(data)\n",
        "    f.close()\n",
        "except:\n",
        "    print(\"I/O error occurred:\")\n",
        "\n",
        "# Now print the content of the variable data to check if we read the file correctly:\n",
        "for b in data:\n",
        "    print(hex(b), end=' ')         # 0xa 0xb 0xc 0xd 0xe 0xf 0x10 0x11 0x12 0x13"
      ],
      "metadata": {
        "colab": {
          "base_uri": "https://localhost:8080/"
        },
        "id": "AAV3NNcfKnTT",
        "outputId": "8222b1fe-752f-4376-a134-91554f576a53"
      },
      "execution_count": null,
      "outputs": [
        {
          "output_type": "stream",
          "name": "stdout",
          "text": [
            "0x0 0x0 0x0 0x0 0x0 0x0 0x0 0x0 0x0 0x0 \n",
            "\n",
            "0xa 0xb 0xc 0xd 0xe 0xf 0x10 0x11 0x12 0x13 "
          ]
        }
      ]
    },
    {
      "cell_type": "markdown",
      "source": [
        "**36. What is the expected output of the following snippet ?**"
      ],
      "metadata": {
        "id": "rlIFG05z_Gtc"
      }
    },
    {
      "cell_type": "code",
      "source": [
        "try:\n",
        "    raise Exception\n",
        "except Exception as e:\n",
        "    print(type(e.args))"
      ],
      "metadata": {
        "colab": {
          "base_uri": "https://localhost:8080/"
        },
        "id": "8vTsVFHf_Er_",
        "outputId": "e3de0722-4fcd-49af-cf3d-636da05484e6"
      },
      "execution_count": null,
      "outputs": [
        {
          "output_type": "stream",
          "name": "stdout",
          "text": [
            "<class 'tuple'>\n"
          ]
        }
      ]
    },
    {
      "cell_type": "markdown",
      "source": [
        "**39. What is the expected output of the following code ?**"
      ],
      "metadata": {
        "id": "L6LnnIX0AGQZ"
      }
    },
    {
      "cell_type": "code",
      "source": [
        "class Omega:\n",
        "    def __init__(self):\n",
        "        self.set(3)\n",
        "    def set(self, x):\n",
        "        self.x = x//2\n",
        "\n",
        "class Lambda(Omega):\n",
        "    L = 4\n",
        "    def __init__(self):\n",
        "        super().__init__()\n",
        "    def __str__(self):\n",
        "        return str(self.x/3)[-1]\n",
        "    def set(self, x):\n",
        "        self.x = x//2 + 1\n",
        "\n",
        "L = Lambda()\n",
        "print(L)"
      ],
      "metadata": {
        "colab": {
          "base_uri": "https://localhost:8080/"
        },
        "id": "vLzX6xJWADv0",
        "outputId": "a4f516c1-f7e8-42c2-f1cb-df9c18a0fe10"
      },
      "execution_count": null,
      "outputs": [
        {
          "output_type": "stream",
          "name": "stdout",
          "text": [
            "6\n"
          ]
        }
      ]
    },
    {
      "cell_type": "code",
      "source": [
        "x = \"Leo and Chloe love apple pie\"\n",
        "y = x.split()\n",
        "z = sorted(y)\n",
        "print(z[1])"
      ],
      "metadata": {
        "colab": {
          "base_uri": "https://localhost:8080/"
        },
        "id": "zBqLjfm-AREo",
        "outputId": "b8ce241c-4400-4407-daa6-a806dee12b80"
      },
      "execution_count": null,
      "outputs": [
        {
          "output_type": "stream",
          "name": "stdout",
          "text": [
            "Leo\n"
          ]
        }
      ]
    }
  ]
}