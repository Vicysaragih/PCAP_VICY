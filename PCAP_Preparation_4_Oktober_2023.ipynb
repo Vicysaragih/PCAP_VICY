{
  "nbformat": 4,
  "nbformat_minor": 0,
  "metadata": {
    "colab": {
      "provenance": [],
      "authorship_tag": "ABX9TyNG9WyExFDlhkKCK6umbJd3",
      "include_colab_link": true
    },
    "kernelspec": {
      "name": "python3",
      "display_name": "Python 3"
    },
    "language_info": {
      "name": "python"
    }
  },
  "cells": [
    {
      "cell_type": "markdown",
      "metadata": {
        "id": "view-in-github",
        "colab_type": "text"
      },
      "source": [
        "<a href=\"https://colab.research.google.com/github/Vicysaragih/PCAP_VICY/blob/main/PCAP_Preparation_4_Oktober_2023.ipynb\" target=\"_parent\"><img src=\"https://colab.research.google.com/assets/colab-badge.svg\" alt=\"Open In Colab\"/></a>"
      ]
    },
    {
      "cell_type": "code",
      "execution_count": 5,
      "metadata": {
        "colab": {
          "base_uri": "https://localhost:8080/"
        },
        "id": "-95GebeN6h9_",
        "outputId": "2cec5c52-3859-414b-bd2b-a632635ee43d"
      },
      "outputs": [
        {
          "output_type": "stream",
          "name": "stdout",
          "text": [
            "27\n",
            "17\n",
            "34\n",
            "22\n"
          ]
        }
      ],
      "source": [
        "class Calculate:\n",
        "\tvar1 = 20\n",
        "\tdef __init__(self, var1):\n",
        "\t\tself.var1 = var1\n",
        "\t\tself.var1 = self.var1 + 7\n",
        "\t\tCalculate.var1 = Calculate.var1 + 7\n",
        "\tdef print(self):\n",
        "\t\tprint(Calculate.var1)\n",
        "\t\tprint(self.var1)\n",
        "Calculate(10).print()\n",
        "Calculate(15).print()"
      ]
    },
    {
      "cell_type": "code",
      "source": [
        "class Calculate:\n",
        "\tvar1 = 20\n",
        "\tdef __init__(self, var1):\n",
        "\t\tself.var1 = var1\n",
        "\t\tself.var1 = self.var1 + 7\n",
        "\t\tCalculate.var1 = Calculate.var1 + 4\n",
        "\tdef print(self):\n",
        "\t\tprint(Calculate.var1)\n",
        "\t\tprint(self.var1)\n",
        "Calculate(10).print()\n",
        "Calculate(15).print()"
      ],
      "metadata": {
        "colab": {
          "base_uri": "https://localhost:8080/"
        },
        "id": "Y71x76BVTkxV",
        "outputId": "7c85a198-9e3f-4272-fec0-71b08bd1227f"
      },
      "execution_count": 6,
      "outputs": [
        {
          "output_type": "stream",
          "name": "stdout",
          "text": [
            "24\n",
            "17\n",
            "28\n",
            "22\n"
          ]
        }
      ]
    },
    {
      "cell_type": "code",
      "source": [
        "class Calculate:\n",
        "\tvar1 = 20\n",
        "\tdef __init__(self, var1):\n",
        "\t\tself.var1 = var1\n",
        "\t\tself.var1 = self.var1 + 4\n",
        "\t\tCalculate.var1 = Calculate.var1 + 7\n",
        "\tdef print(self):\n",
        "\t\tprint(Calculate.var1)\n",
        "\t\tprint(self.var1)\n",
        "Calculate(10).print()\n",
        "Calculate(15).print()"
      ],
      "metadata": {
        "colab": {
          "base_uri": "https://localhost:8080/"
        },
        "id": "dFzN_vj_Tn4t",
        "outputId": "141d56c4-40c3-4d05-8862-4eaeb7a7ed11"
      },
      "execution_count": 7,
      "outputs": [
        {
          "output_type": "stream",
          "name": "stdout",
          "text": [
            "27\n",
            "14\n",
            "34\n",
            "19\n"
          ]
        }
      ]
    },
    {
      "cell_type": "code",
      "source": [
        "class Calculate:\n",
        "\tvar1 = 20\n",
        "\tdef __init__(self, var1):\n",
        "\t\tself.var1 = var1\n",
        "\t\tself.var1 = self.var1 + 4\n",
        "\t\tCalculate.var1 = Calculate.var1 + 4\n",
        "\tdef print(self):\n",
        "\t\tprint(Calculate.var1)\n",
        "\t\tprint(self.var1)\n",
        "Calculate(10).print()\n",
        "Calculate(15).print()"
      ],
      "metadata": {
        "colab": {
          "base_uri": "https://localhost:8080/"
        },
        "id": "Kr7fRPDTTq2t",
        "outputId": "bdf9ae15-48a1-4bbf-ccc0-a63723ffbd72"
      },
      "execution_count": 8,
      "outputs": [
        {
          "output_type": "stream",
          "name": "stdout",
          "text": [
            "24\n",
            "14\n",
            "28\n",
            "19\n"
          ]
        }
      ]
    },
    {
      "cell_type": "code",
      "source": [
        "class Calculate:\n",
        "\tvar1 = 20\n",
        "\tdef __init__(self, var1):\n",
        "\t\tself.var1 = var1\n",
        "\t\tself.var1 = self.var1 + 4\n",
        "\t\tCalculate.var1 = Calculate.var1 + 4\n",
        "\tdef print(self):\n",
        "\t\tprint(Calculate.var1) #Hasil 24\n",
        "\t\tprint(self.var1) #Hasil 28\n",
        "Calculate(11).print() #Hasil 15\n",
        "Calculate(15).print() #Hasil 19"
      ],
      "metadata": {
        "colab": {
          "base_uri": "https://localhost:8080/"
        },
        "id": "v7wdEpEHUnbH",
        "outputId": "d626dff3-68c6-407c-8929-81fe8be51f81"
      },
      "execution_count": 11,
      "outputs": [
        {
          "output_type": "stream",
          "name": "stdout",
          "text": [
            "24\n",
            "15\n",
            "28\n",
            "19\n"
          ]
        }
      ]
    },
    {
      "cell_type": "code",
      "source": [
        "class Calculate:\n",
        "\tvar1 = 20\n",
        "\tdef __init__(self, var1):\n",
        "\t\tself.var1 = var1\n",
        "\t\tself.var1 = self.var1 + 4\n",
        "\t\tCalculate.var1 = Calculate.var1 + 4\n",
        "\tdef print(self):\n",
        "\t\tprint(Calculate.var1) #Hasil 24\n",
        "\t\tprint(self.var1) #Hasil 28\n",
        "Calculate(10).print() #Hasil 14\n",
        "Calculate(11).print() #Hasil 15"
      ],
      "metadata": {
        "colab": {
          "base_uri": "https://localhost:8080/"
        },
        "id": "h9AsM7ByUXtG",
        "outputId": "23b45b2c-6cd2-447d-e3e0-b57878aa622c"
      },
      "execution_count": 13,
      "outputs": [
        {
          "output_type": "stream",
          "name": "stdout",
          "text": [
            "24\n",
            "14\n",
            "28\n",
            "15\n"
          ]
        }
      ]
    },
    {
      "cell_type": "code",
      "source": [
        "class Calculate:\n",
        "\tvar1 = 20\n",
        "\tdef __init__(self, var1):\n",
        "\t\tself.var1 = var1\n",
        "\t\tself.var1 = self.var1 + 4\n",
        "\t\tCalculate.var1 = Calculate.var1 + 4\n",
        "\tdef print(self):\n",
        "\t\tprint(Calculate.var1) #Hasil 24\n",
        "\t\tprint(self.var1) #Hasil 28\n",
        "Calculate(10).print() #Hasil 14\n",
        "Calculate(11).print() #Hasil 15\n",
        "Calculate(12).print()"
      ],
      "metadata": {
        "colab": {
          "base_uri": "https://localhost:8080/"
        },
        "id": "cHrXa15YWDhV",
        "outputId": "e47545fc-f51c-4063-a7b9-30be79ae8218"
      },
      "execution_count": 15,
      "outputs": [
        {
          "output_type": "stream",
          "name": "stdout",
          "text": [
            "24\n",
            "14\n",
            "28\n",
            "15\n",
            "32\n",
            "16\n"
          ]
        }
      ]
    },
    {
      "cell_type": "code",
      "source": [
        "#Choose the correct output\n",
        "\n",
        "x = 45\n",
        "y = 25\n",
        "\n",
        "def Sum(x):\n",
        "\tglobal x\n",
        "\tprint(\"Sum inside Sum() : \" x + y)\n",
        "\n",
        "Sum(25)\n",
        "print (\"Sum outside Sum() : \" x + y)\n",
        "\n",
        "# Error because there is local variable but trying to overshadow with Global"
      ],
      "metadata": {
        "colab": {
          "base_uri": "https://localhost:8080/",
          "height": 141
        },
        "id": "-pt8NgfeZMBe",
        "outputId": "3bcf563b-e9fc-4479-fc55-d9c0490e3ca1"
      },
      "execution_count": 19,
      "outputs": [
        {
          "output_type": "error",
          "ename": "SyntaxError",
          "evalue": "ignored",
          "traceback": [
            "\u001b[0;36m  File \u001b[0;32m\"<ipython-input-19-a0d7f292b140>\"\u001b[0;36m, line \u001b[0;32m8\u001b[0m\n\u001b[0;31m    print(\"Sum inside Sum() : \" x + y)\u001b[0m\n\u001b[0m          ^\u001b[0m\n\u001b[0;31mSyntaxError\u001b[0m\u001b[0;31m:\u001b[0m invalid syntax. Perhaps you forgot a comma?\n"
          ]
        }
      ]
    },
    {
      "cell_type": "code",
      "source": [
        "print(\"%.2o\"%(25))\n",
        "print(\"%.5o\"%(25))\n",
        "print(\"% 10E\"%(76835264255))"
      ],
      "metadata": {
        "colab": {
          "base_uri": "https://localhost:8080/"
        },
        "id": "pweWEcKNZqH0",
        "outputId": "81f3c460-2e29-4fb7-f815-a45ac18ea5f2"
      },
      "execution_count": 24,
      "outputs": [
        {
          "output_type": "stream",
          "name": "stdout",
          "text": [
            "31\n",
            "00031\n",
            " 7.683526E+10\n"
          ]
        }
      ]
    },
    {
      "cell_type": "code",
      "source": [
        "print(0x5 | 0x6)"
      ],
      "metadata": {
        "colab": {
          "base_uri": "https://localhost:8080/"
        },
        "id": "MGRDZJqqjhk3",
        "outputId": "9f6a40ee-e453-4511-8a2e-9581c6706c41"
      },
      "execution_count": 30,
      "outputs": [
        {
          "output_type": "stream",
          "name": "stdout",
          "text": [
            "7\n"
          ]
        }
      ]
    },
    {
      "cell_type": "code",
      "source": [
        "try:\n",
        "\tprint(25/0)\n",
        "except ZeroDivisionError:\n",
        "\tprint(\"Zero Division Error\")\n",
        "except:\n",
        "\tprint(\"Something Went Wrong\")\n",
        "else:\n",
        "\tprint(\"Nothing Went Wrong\")\n"
      ],
      "metadata": {
        "colab": {
          "base_uri": "https://localhost:8080/"
        },
        "id": "jG8KEJaBkMje",
        "outputId": "fc45dc7e-e104-4adc-fe93-7742b2c0bd83"
      },
      "execution_count": 33,
      "outputs": [
        {
          "output_type": "stream",
          "name": "stdout",
          "text": [
            "Zero Division Error\n"
          ]
        }
      ]
    },
    {
      "cell_type": "code",
      "source": [
        "class A :\n",
        "\tdef __init__(self):\n",
        "\t\tself.num1 = 10\n",
        "\tdef show_num1(self):\n",
        "\t\tprint(self.num1)\n",
        "\n",
        "class B(A):\n",
        "\tdef __init__(self):\n",
        "\t\tself.num2 = 20\n",
        "\t\tsuper().__init__()\n",
        "\tdef show_num2(self):\n",
        "\t\tprint(self.num2)\n",
        "\n",
        "obj = B()\n",
        "obj.show_num1()\n",
        "obj.show_num2()"
      ],
      "metadata": {
        "colab": {
          "base_uri": "https://localhost:8080/"
        },
        "id": "AEiPnaFJnYv3",
        "outputId": "810d54db-9849-4fe9-fa39-328404bc88a9"
      },
      "execution_count": 37,
      "outputs": [
        {
          "output_type": "stream",
          "name": "stdout",
          "text": [
            "10\n",
            "20\n"
          ]
        }
      ]
    },
    {
      "cell_type": "code",
      "source": [
        "#Indexing\n",
        "str = \" \" .join([\"VICY\", \"AC\", \"SARAGIH\"])\n",
        "l= (str, \"are\", \"Name\", \"And Marga\")\n",
        "print(l[-4])"
      ],
      "metadata": {
        "colab": {
          "base_uri": "https://localhost:8080/"
        },
        "id": "zr4kSRlHo4ff",
        "outputId": "b38cfe74-b8cd-4771-c1b4-d243d5eaef94"
      },
      "execution_count": 42,
      "outputs": [
        {
          "output_type": "stream",
          "name": "stdout",
          "text": [
            "VICY AC SARAGIH\n"
          ]
        }
      ]
    },
    {
      "cell_type": "code",
      "source": [
        "class Calculate:\n",
        "\tA = 20\n",
        "\tB = 20\n",
        "\tdef __init__ (self, a, b):\n",
        "\t\tprint(self.A + self.B/2 + 1)\n",
        "\n",
        "Calculate(4,10)"
      ],
      "metadata": {
        "colab": {
          "base_uri": "https://localhost:8080/"
        },
        "id": "i4Xzl7wErheY",
        "outputId": "d8e3c365-43d3-41fd-be27-0107dedeb7e6"
      },
      "execution_count": 46,
      "outputs": [
        {
          "output_type": "stream",
          "name": "stdout",
          "text": [
            "31.0\n"
          ]
        },
        {
          "output_type": "execute_result",
          "data": {
            "text/plain": [
              "<__main__.Calculate at 0x7846694b1e40>"
            ]
          },
          "metadata": {},
          "execution_count": 46
        }
      ]
    }
  ]
}