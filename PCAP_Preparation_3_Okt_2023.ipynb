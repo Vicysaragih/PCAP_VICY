{
  "nbformat": 4,
  "nbformat_minor": 0,
  "metadata": {
    "colab": {
      "provenance": []
    },
    "kernelspec": {
      "name": "python3",
      "display_name": "Python 3"
    },
    "language_info": {
      "name": "python"
    }
  },
  "cells": [
    {
      "cell_type": "markdown",
      "source": [
        "**1. Which of the following expressions evaluate to True?**"
      ],
      "metadata": {
        "id": "raj66IAs-bct"
      }
    },
    {
      "cell_type": "code",
      "execution_count": null,
      "metadata": {
        "colab": {
          "base_uri": "https://localhost:8080/"
        },
        "id": "ljesuk65-Yuf",
        "outputId": "034b04e4-f977-443a-da98-250752058820"
      },
      "outputs": [
        {
          "output_type": "stream",
          "name": "stdout",
          "text": [
            "True\n"
          ]
        }
      ],
      "source": [
        "print('abc' .upper () < 'abc')"
      ]
    },
    {
      "cell_type": "code",
      "source": [
        "print(3 * 'a' < 'a' * 2)"
      ],
      "metadata": {
        "colab": {
          "base_uri": "https://localhost:8080/"
        },
        "id": "TeEP0_ok-im_",
        "outputId": "097d832a-3707-4e90-f5c1-2b424640d4ef"
      },
      "execution_count": null,
      "outputs": [
        {
          "output_type": "stream",
          "name": "stdout",
          "text": [
            "False\n"
          ]
        }
      ]
    },
    {
      "cell_type": "code",
      "source": [
        "print(11 == '011')"
      ],
      "metadata": {
        "colab": {
          "base_uri": "https://localhost:8080/"
        },
        "id": "wGPae44u-jNA",
        "outputId": "f7de2e46-c0ee-457a-868f-89e1d9348a20"
      },
      "execution_count": null,
      "outputs": [
        {
          "output_type": "stream",
          "name": "stdout",
          "text": [
            "False\n"
          ]
        }
      ]
    },
    {
      "cell_type": "markdown",
      "source": [
        "**2. Files with the suffix .pyc contain**\n",
        "\n",
        "answere : semi-compiled Python code"
      ],
      "metadata": {
        "id": "PsNcNfUs-oQP"
      }
    },
    {
      "cell_type": "markdown",
      "source": [
        "**3. Choose the correct output**"
      ],
      "metadata": {
        "id": "mscxlaTV-wWv"
      }
    },
    {
      "cell_type": "code",
      "source": [
        "list1 = [(\"abc\", \"bca\"), 24.56, 23.64, [1, 2, 3]]\n",
        "list2 = list(list1)\n",
        "list2[1] = \"abc\"\n",
        "list1[3] = \"bca\"\n",
        "print(list1)\n",
        "print(list2)"
      ],
      "metadata": {
        "colab": {
          "base_uri": "https://localhost:8080/"
        },
        "id": "SQajBbE1-2kw",
        "outputId": "503a2dd7-de0a-44dd-96fa-1f9504d32c81"
      },
      "execution_count": null,
      "outputs": [
        {
          "output_type": "stream",
          "name": "stdout",
          "text": [
            "[('abc', 'bca'), 24.56, 23.64, 'bca']\n",
            "[('abc', 'bca'), 'abc', 23.64, [1, 2, 3]]\n"
          ]
        }
      ]
    },
    {
      "cell_type": "markdown",
      "source": [
        "4. Choose the correct output\n",
        "\n",
        "a. 45   \n",
        "b. 0   \n",
        "c . error   \n",
        "d. 36  "
      ],
      "metadata": {
        "id": "5rhIEUME-7MH"
      }
    },
    {
      "cell_type": "code",
      "source": [
        "s = '0123456789'\n",
        "obj = range(0, len(s), 0)\n",
        "l= []\n",
        "for i in obj:\n",
        "\tl.append(int(s[i]))\n",
        "add= 0\n",
        "for i in obj:\n",
        "\tadd = add + l[i]\n",
        "\n",
        "print(add)"
      ],
      "metadata": {
        "colab": {
          "base_uri": "https://localhost:8080/",
          "height": 245
        },
        "id": "uSQ6WwQB-8z_",
        "outputId": "ac8e2d12-afe8-4a43-b5d5-a42e26d0510b"
      },
      "execution_count": null,
      "outputs": [
        {
          "output_type": "error",
          "ename": "ValueError",
          "evalue": "ignored",
          "traceback": [
            "\u001b[0;31m---------------------------------------------------------------------------\u001b[0m",
            "\u001b[0;31mValueError\u001b[0m                                Traceback (most recent call last)",
            "\u001b[0;32m<ipython-input-5-d4c20c6d8e2f>\u001b[0m in \u001b[0;36m<cell line: 2>\u001b[0;34m()\u001b[0m\n\u001b[1;32m      1\u001b[0m \u001b[0ms\u001b[0m \u001b[0;34m=\u001b[0m \u001b[0;34m'0123456789'\u001b[0m\u001b[0;34m\u001b[0m\u001b[0;34m\u001b[0m\u001b[0m\n\u001b[0;32m----> 2\u001b[0;31m \u001b[0mobj\u001b[0m \u001b[0;34m=\u001b[0m \u001b[0mrange\u001b[0m\u001b[0;34m(\u001b[0m\u001b[0;36m0\u001b[0m\u001b[0;34m,\u001b[0m \u001b[0mlen\u001b[0m\u001b[0;34m(\u001b[0m\u001b[0ms\u001b[0m\u001b[0;34m)\u001b[0m\u001b[0;34m,\u001b[0m \u001b[0;36m0\u001b[0m\u001b[0;34m)\u001b[0m\u001b[0;34m\u001b[0m\u001b[0;34m\u001b[0m\u001b[0m\n\u001b[0m\u001b[1;32m      3\u001b[0m \u001b[0ml\u001b[0m\u001b[0;34m=\u001b[0m \u001b[0;34m[\u001b[0m\u001b[0;34m]\u001b[0m\u001b[0;34m\u001b[0m\u001b[0;34m\u001b[0m\u001b[0m\n\u001b[1;32m      4\u001b[0m \u001b[0;32mfor\u001b[0m \u001b[0mi\u001b[0m \u001b[0;32min\u001b[0m \u001b[0mobj\u001b[0m\u001b[0;34m:\u001b[0m\u001b[0;34m\u001b[0m\u001b[0;34m\u001b[0m\u001b[0m\n\u001b[1;32m      5\u001b[0m         \u001b[0ml\u001b[0m\u001b[0;34m.\u001b[0m\u001b[0mappend\u001b[0m\u001b[0;34m(\u001b[0m\u001b[0mint\u001b[0m\u001b[0;34m(\u001b[0m\u001b[0ms\u001b[0m\u001b[0;34m[\u001b[0m\u001b[0mi\u001b[0m\u001b[0;34m]\u001b[0m\u001b[0;34m)\u001b[0m\u001b[0;34m)\u001b[0m\u001b[0;34m\u001b[0m\u001b[0;34m\u001b[0m\u001b[0m\n",
            "\u001b[0;31mValueError\u001b[0m: range() arg 3 must not be zero"
          ]
        }
      ]
    },
    {
      "cell_type": "code",
      "source": [
        "s = '0123456789'\n",
        "obj = range(0, len(s)) #correct if 0 delete from obj\n",
        "l= []\n",
        "for i in obj:\n",
        "\tl.append(int(s[i]))\n",
        "add= 0\n",
        "for i in obj:\n",
        "\tadd = add + l[i]\n",
        "\n",
        "print(add)"
      ],
      "metadata": {
        "colab": {
          "base_uri": "https://localhost:8080/"
        },
        "id": "iVIaR5mB_Elz",
        "outputId": "4151fae2-bfae-46e1-d5f3-ae4e57f0654c"
      },
      "execution_count": null,
      "outputs": [
        {
          "output_type": "stream",
          "name": "stdout",
          "text": [
            "45\n"
          ]
        }
      ]
    },
    {
      "cell_type": "code",
      "source": [
        "print(not(\"False\"))\n",
        "print(not(0))\n",
        "print(not(''))\n",
        "print(not(' '))\n",
        "print(not([\"Python\"]))\n",
        "print(not([]))"
      ],
      "metadata": {
        "colab": {
          "base_uri": "https://localhost:8080/"
        },
        "id": "Z6CitLRo_iwI",
        "outputId": "0a6b2632-d245-491d-8df3-bdadf840164f"
      },
      "execution_count": null,
      "outputs": [
        {
          "output_type": "stream",
          "name": "stdout",
          "text": [
            "False\n",
            "True\n",
            "True\n",
            "False\n",
            "False\n",
            "True\n"
          ]
        }
      ]
    },
    {
      "cell_type": "code",
      "source": [
        "class Class_A:\n",
        "  def __init__(self, var):\n",
        "    return self\n",
        "\n",
        "obj = Class_A(20)\n",
        "print(obj)\n",
        "\n",
        "Answere : Error"
      ],
      "metadata": {
        "colab": {
          "base_uri": "https://localhost:8080/",
          "height": 245
        },
        "id": "-bUPOnBiBkAz",
        "outputId": "f56246fd-b742-42a9-bcc4-edf7ba8a0a6f"
      },
      "execution_count": null,
      "outputs": [
        {
          "output_type": "error",
          "ename": "TypeError",
          "evalue": "ignored",
          "traceback": [
            "\u001b[0;31m---------------------------------------------------------------------------\u001b[0m",
            "\u001b[0;31mTypeError\u001b[0m                                 Traceback (most recent call last)",
            "\u001b[0;32m<ipython-input-14-15a8d7d965a3>\u001b[0m in \u001b[0;36m<cell line: 5>\u001b[0;34m()\u001b[0m\n\u001b[1;32m      3\u001b[0m     \u001b[0;32mreturn\u001b[0m \u001b[0mself\u001b[0m\u001b[0;34m\u001b[0m\u001b[0;34m\u001b[0m\u001b[0m\n\u001b[1;32m      4\u001b[0m \u001b[0;34m\u001b[0m\u001b[0m\n\u001b[0;32m----> 5\u001b[0;31m \u001b[0mobj\u001b[0m \u001b[0;34m=\u001b[0m \u001b[0mClass_A\u001b[0m\u001b[0;34m(\u001b[0m\u001b[0;36m20\u001b[0m\u001b[0;34m)\u001b[0m\u001b[0;34m\u001b[0m\u001b[0;34m\u001b[0m\u001b[0m\n\u001b[0m\u001b[1;32m      6\u001b[0m \u001b[0mprint\u001b[0m\u001b[0;34m(\u001b[0m\u001b[0mobj\u001b[0m\u001b[0;34m)\u001b[0m\u001b[0;34m\u001b[0m\u001b[0;34m\u001b[0m\u001b[0m\n\u001b[1;32m      7\u001b[0m \u001b[0;34m\u001b[0m\u001b[0m\n",
            "\u001b[0;31mTypeError\u001b[0m: __init__() should return None, not 'Class_A'"
          ]
        }
      ]
    },
    {
      "cell_type": "code",
      "source": [
        "#Choose the correct output\n",
        "\n",
        "i = 0\n",
        "while i < 4:\n",
        "  print(i, end = \"-\")\n",
        "  i += 1.5\n",
        "  if ((i < 4) == False):\n",
        "    break\n",
        "else:\n",
        "  print(0, end = \"\")"
      ],
      "metadata": {
        "colab": {
          "base_uri": "https://localhost:8080/"
        },
        "id": "sIFEMO0kDasq",
        "outputId": "85be194b-8a65-47f2-bdf2-4e7c052a42cf"
      },
      "execution_count": null,
      "outputs": [
        {
          "output_type": "stream",
          "name": "stdout",
          "text": [
            "0-1.5-3.0-"
          ]
        }
      ]
    }
  ]
}