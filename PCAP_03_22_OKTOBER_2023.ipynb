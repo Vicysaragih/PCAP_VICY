{
  "nbformat": 4,
  "nbformat_minor": 0,
  "metadata": {
    "colab": {
      "provenance": [],
      "authorship_tag": "ABX9TyOBsbg4LEhfpEy42mPeY3Ik",
      "include_colab_link": true
    },
    "kernelspec": {
      "name": "python3",
      "display_name": "Python 3"
    },
    "language_info": {
      "name": "python"
    }
  },
  "cells": [
    {
      "cell_type": "markdown",
      "metadata": {
        "id": "view-in-github",
        "colab_type": "text"
      },
      "source": [
        "<a href=\"https://colab.research.google.com/github/Vicysaragih/PCAP_VICY/blob/main/PCAP_03_22_OKTOBER_2023.ipynb\" target=\"_parent\"><img src=\"https://colab.research.google.com/assets/colab-badge.svg\" alt=\"Open In Colab\"/></a>"
      ]
    },
    {
      "cell_type": "code",
      "execution_count": 1,
      "metadata": {
        "colab": {
          "base_uri": "https://localhost:8080/"
        },
        "id": "9fFi1aseP1iJ",
        "outputId": "fa2a208f-349d-414d-d9f1-8582d8067fc7"
      },
      "outputs": [
        {
          "output_type": "stream",
          "name": "stdout",
          "text": [
            "Wrong input !\n"
          ]
        }
      ],
      "source": [
        "from math import sqrt as root\n",
        "\n",
        "def my_root(x):\n",
        "    try:\n",
        "        return root(x)\n",
        "    except:\n",
        "        print('Function Error !')\n",
        "        raise\n",
        "\n",
        "x=-2\n",
        "try:\n",
        "    assert x + 2, \"Wrong input !\"\n",
        "    print(my_root(x))\n",
        "except Exception as e:\n",
        "    print(e)\n",
        "else:\n",
        "    print('All good !')"
      ]
    },
    {
      "cell_type": "code",
      "source": [
        "from platform import version\n",
        "print(version())"
      ],
      "metadata": {
        "colab": {
          "base_uri": "https://localhost:8080/"
        },
        "id": "pxZxrPVaQCUC",
        "outputId": "d87f4642-db23-4bc4-f36e-79191c5c2cbe"
      },
      "execution_count": 2,
      "outputs": [
        {
          "output_type": "stream",
          "name": "stdout",
          "text": [
            "#1 SMP Wed Aug 30 11:19:59 UTC 2023\n"
          ]
        }
      ]
    },
    {
      "cell_type": "code",
      "source": [
        "from platform import system\n",
        "print(system())"
      ],
      "metadata": {
        "colab": {
          "base_uri": "https://localhost:8080/"
        },
        "id": "dcejAsFDQMKG",
        "outputId": "eb654e45-10d1-4615-a0f2-94d19da901a1"
      },
      "execution_count": 3,
      "outputs": [
        {
          "output_type": "stream",
          "name": "stdout",
          "text": [
            "Linux\n"
          ]
        }
      ]
    },
    {
      "cell_type": "code",
      "source": [
        "from platform import python_version\n",
        "print(python_version())"
      ],
      "metadata": {
        "colab": {
          "base_uri": "https://localhost:8080/"
        },
        "id": "42p9GsV6QSnV",
        "outputId": "9fbc12e2-8def-469b-a817-c82fbb69a969"
      },
      "execution_count": 4,
      "outputs": [
        {
          "output_type": "stream",
          "name": "stdout",
          "text": [
            "3.10.12\n"
          ]
        }
      ]
    },
    {
      "cell_type": "code",
      "source": [
        "from platform import python_implementation\n",
        "print(python_implementation())"
      ],
      "metadata": {
        "colab": {
          "base_uri": "https://localhost:8080/"
        },
        "id": "SkNckIN6QZ26",
        "outputId": "84e24d4c-2237-4438-aa77-4539fca75c5b"
      },
      "execution_count": 5,
      "outputs": [
        {
          "output_type": "stream",
          "name": "stdout",
          "text": [
            "CPython\n"
          ]
        }
      ]
    },
    {
      "cell_type": "code",
      "source": [
        "print(str(2/3)[-1])"
      ],
      "metadata": {
        "colab": {
          "base_uri": "https://localhost:8080/"
        },
        "id": "jgCidAYTQi06",
        "outputId": "0c8a49e2-a945-49ed-fc37-e9c5fb6f7789"
      },
      "execution_count": 6,
      "outputs": [
        {
          "output_type": "stream",
          "name": "stdout",
          "text": [
            "6\n"
          ]
        }
      ]
    },
    {
      "cell_type": "code",
      "source": [
        "class Jedi:\n",
        "    def __init__(self, name):\n",
        "        self.name = name\n",
        "    def Print(self):\n",
        "        return self.name\n",
        "\n",
        "\n",
        "Luke = Jedi('Luke')\n",
        "print(Luke)\n",
        "\n"
      ],
      "metadata": {
        "colab": {
          "base_uri": "https://localhost:8080/"
        },
        "id": "2-MHIL_HQmbu",
        "outputId": "cf51c85b-b61f-4e98-9ddc-6f3a2e846f4a"
      },
      "execution_count": 7,
      "outputs": [
        {
          "output_type": "stream",
          "name": "stdout",
          "text": [
            "<__main__.Jedi object at 0x7f08a061ee60>\n"
          ]
        }
      ]
    },
    {
      "cell_type": "markdown",
      "source": [
        "**6. What is the expected output of the following snippet ?**"
      ],
      "metadata": {
        "id": "GM_3vS7dQxf5"
      }
    },
    {
      "cell_type": "code",
      "source": [
        "mylist1 = [[i for i in 'Luke'] for j in range(3)]\n",
        "mylist2 =[]\n",
        "for x in mylist1:\n",
        "    for y in x:\n",
        "        if y in mylist2:\n",
        "            continue\n",
        "        else:\n",
        "            mylist2.append(y)\n",
        "else:\n",
        "    mylist2.append('!')\n",
        "print(''.join(mylist2))"
      ],
      "metadata": {
        "colab": {
          "base_uri": "https://localhost:8080/"
        },
        "id": "45BGJIq_Q0ri",
        "outputId": "2a32191b-283e-477c-9695-5df85e38ed87"
      },
      "execution_count": 8,
      "outputs": [
        {
          "output_type": "stream",
          "name": "stdout",
          "text": [
            "Luke!\n"
          ]
        }
      ]
    },
    {
      "cell_type": "markdown",
      "source": [
        "**7. Which statement is true about the following line of code (Pick two) ?**"
      ],
      "metadata": {
        "id": "YI49WavzQ55J"
      }
    },
    {
      "cell_type": "code",
      "source": [
        "f = open('myfile.txt','r+t')"
      ],
      "metadata": {
        "colab": {
          "base_uri": "https://localhost:8080/",
          "height": 176
        },
        "id": "Zz6i3b2FQ9ij",
        "outputId": "0397b6ed-3e7a-4086-b307-3f07f45f10b2"
      },
      "execution_count": 9,
      "outputs": [
        {
          "output_type": "error",
          "ename": "FileNotFoundError",
          "evalue": "ignored",
          "traceback": [
            "\u001b[0;31m---------------------------------------------------------------------------\u001b[0m",
            "\u001b[0;31mFileNotFoundError\u001b[0m                         Traceback (most recent call last)",
            "\u001b[0;32m<ipython-input-9-5b71fe77056e>\u001b[0m in \u001b[0;36m<cell line: 1>\u001b[0;34m()\u001b[0m\n\u001b[0;32m----> 1\u001b[0;31m \u001b[0mf\u001b[0m \u001b[0;34m=\u001b[0m \u001b[0mopen\u001b[0m\u001b[0;34m(\u001b[0m\u001b[0;34m'myfile.txt'\u001b[0m\u001b[0;34m,\u001b[0m\u001b[0;34m'r+t'\u001b[0m\u001b[0;34m)\u001b[0m\u001b[0;34m\u001b[0m\u001b[0;34m\u001b[0m\u001b[0m\n\u001b[0m",
            "\u001b[0;31mFileNotFoundError\u001b[0m: [Errno 2] No such file or directory: 'myfile.txt'"
          ]
        }
      ]
    },
    {
      "cell_type": "markdown",
      "source": [
        "**8. What is the expected output of the following code, assuming that the file named STRWR.txt does not exist?**"
      ],
      "metadata": {
        "id": "LyEkM5VHRO46"
      }
    },
    {
      "cell_type": "code",
      "source": [
        "import errno\n",
        "\n",
        "try:\n",
        "    data = open(\"STRWR.txt\", \"rt\")\n",
        "    data.close()\n",
        "except IOError as e:\n",
        "    if e.errno == errno.ENOENT:\n",
        "        print(\"A\")\n",
        "    elif e.errno == errno.EEXIST:\n",
        "        print(\"B\")\n",
        "    elif e.errno == errno.EACCES:\n",
        "        print(\"C\")\n",
        "    else:\n",
        "        print(\"D\")"
      ],
      "metadata": {
        "colab": {
          "base_uri": "https://localhost:8080/"
        },
        "id": "YAd1mJ3QRQeS",
        "outputId": "89acb751-3a93-484b-8db8-78da64180325"
      },
      "execution_count": 10,
      "outputs": [
        {
          "output_type": "stream",
          "name": "stdout",
          "text": [
            "A\n"
          ]
        }
      ]
    },
    {
      "cell_type": "markdown",
      "source": [
        "**9. Two classes are defined as below :**\n",
        "\n",
        "**Which function would you use to check if Jedi is a subclass of Sith ?**"
      ],
      "metadata": {
        "id": "d-Z3qUGzRXHC"
      }
    },
    {
      "cell_type": "code",
      "source": [
        "class Jedi:\n",
        "    def __init__(self, name):\n",
        "        self.name=name\n",
        "\n",
        "class Sith:\n",
        "    def __init__(self, name):\n",
        "        self.name=name\n",
        "\n",
        "issubclass(Sith, Jedi)"
      ],
      "metadata": {
        "colab": {
          "base_uri": "https://localhost:8080/"
        },
        "id": "xfuWU10MRaA6",
        "outputId": "f6a8581b-6fb6-4d1b-9e39-5d99e877f503"
      },
      "execution_count": 14,
      "outputs": [
        {
          "output_type": "execute_result",
          "data": {
            "text/plain": [
              "False"
            ]
          },
          "metadata": {},
          "execution_count": 14
        }
      ]
    },
    {
      "cell_type": "code",
      "source": [
        "class Jedi:\n",
        "    def __init__(self, name):\n",
        "        self.name=name\n",
        "\n",
        "class Sith:\n",
        "    def __init__(self, name):\n",
        "        self.name=name\n",
        "\n",
        "issubclass(Jedi, Sith)"
      ],
      "metadata": {
        "colab": {
          "base_uri": "https://localhost:8080/"
        },
        "id": "-Yralc7LSNTI",
        "outputId": "fd64c8b1-49fb-4474-9ff8-f4d5cade2a32"
      },
      "execution_count": 17,
      "outputs": [
        {
          "output_type": "execute_result",
          "data": {
            "text/plain": [
              "False"
            ]
          },
          "metadata": {},
          "execution_count": 17
        }
      ]
    },
    {
      "cell_type": "code",
      "source": [
        "class Jedi:\n",
        "    def __init__(self, name):\n",
        "        self.name=name\n",
        "\n",
        "class Sith:\n",
        "    def __init__(self, name):\n",
        "        self.name=name\n",
        "\n",
        "isinstance(Sith, Jedi)"
      ],
      "metadata": {
        "colab": {
          "base_uri": "https://localhost:8080/"
        },
        "id": "8M5ak2yaSCmg",
        "outputId": "ac973cb5-4142-43f7-8262-07ed751ddb4b"
      },
      "execution_count": 15,
      "outputs": [
        {
          "output_type": "execute_result",
          "data": {
            "text/plain": [
              "False"
            ]
          },
          "metadata": {},
          "execution_count": 15
        }
      ]
    },
    {
      "cell_type": "code",
      "source": [
        "class Jedi:\n",
        "    def __init__(self, name):\n",
        "        self.name=name\n",
        "\n",
        "class Sith:\n",
        "    def __init__(self, name):\n",
        "        self.name=name\n",
        "\n",
        "isinstance(Jedi, Sith)"
      ],
      "metadata": {
        "colab": {
          "base_uri": "https://localhost:8080/"
        },
        "id": "_7YwMa4zSJvw",
        "outputId": "84192dde-a57f-4505-ccb1-7f8e3944cc7b"
      },
      "execution_count": 16,
      "outputs": [
        {
          "output_type": "execute_result",
          "data": {
            "text/plain": [
              "False"
            ]
          },
          "metadata": {},
          "execution_count": 16
        }
      ]
    },
    {
      "cell_type": "markdown",
      "source": [
        "**10. What code do you need to insert in line 12 to get the value of the instance variable  __count from the object my_snake printed on the screen ?**"
      ],
      "metadata": {
        "id": "m87g13F0ScDG"
      }
    },
    {
      "cell_type": "code",
      "source": [
        "class Snake:                    # line 1\n",
        "    count = 0                   # line 2\n",
        "    def __init__(self, val):    # line 3\n",
        "        self.__count = val      # line 4\n",
        "        count=2                 # line 5\n",
        "                                # line 6\n",
        "class Python(Snake):            # line 7\n",
        "    def __init__(self, val):    # line 8\n",
        "        super().__init__(val)   # line 9\n",
        "                                # line 10\n",
        "my_snake = Python(1)            # line 11\n",
        "#insert code here               # line 12"
      ],
      "metadata": {
        "id": "fKoFxaIDSd4F"
      },
      "execution_count": 18,
      "outputs": []
    },
    {
      "cell_type": "code",
      "source": [
        "print(Snake.count)"
      ],
      "metadata": {
        "colab": {
          "base_uri": "https://localhost:8080/"
        },
        "id": "0QeXY8xDSlG1",
        "outputId": "23030b7b-3eb6-4d50-971b-ceae750451d6"
      },
      "execution_count": 20,
      "outputs": [
        {
          "output_type": "stream",
          "name": "stdout",
          "text": [
            "0\n"
          ]
        }
      ]
    },
    {
      "cell_type": "code",
      "source": [
        "print(my_snake.count)"
      ],
      "metadata": {
        "colab": {
          "base_uri": "https://localhost:8080/"
        },
        "id": "kRJmbvsySvRg",
        "outputId": "4ff72a59-8afb-40e0-b8c4-b7b5226a3d8e"
      },
      "execution_count": 21,
      "outputs": [
        {
          "output_type": "stream",
          "name": "stdout",
          "text": [
            "0\n"
          ]
        }
      ]
    },
    {
      "cell_type": "markdown",
      "source": [
        "**11. What is the expected output of the following code?**"
      ],
      "metadata": {
        "id": "m_HISFMwS_aT"
      }
    },
    {
      "cell_type": "code",
      "source": [
        "import math\n",
        "\n",
        "def my_func(x,y):\n",
        "    z = math.trunc(x) + math.ceil(x) - math.floor(y)\n",
        "    return z\n",
        "\n",
        "print(my_func(-1.6,-3.2))"
      ],
      "metadata": {
        "colab": {
          "base_uri": "https://localhost:8080/"
        },
        "id": "XBSGAC93TBRT",
        "outputId": "84134ef5-3353-45f9-d456-43167f91315c"
      },
      "execution_count": 23,
      "outputs": [
        {
          "output_type": "stream",
          "name": "stdout",
          "text": [
            "2\n"
          ]
        }
      ]
    },
    {
      "cell_type": "markdown",
      "source": [
        "**12. You want to create a new class Class2, as a subclass of class Class1.**\n",
        "\n",
        "You want the constructor of Class2  to be exactly the same as the one from Class1 (this constructor has two parameters : self and val).\n",
        "\n",
        "**Which code snippet below would comply with the above requirements ?**"
      ],
      "metadata": {
        "id": "v2EXqX0PTRDM"
      }
    },
    {
      "cell_type": "markdown",
      "source": [
        "**14. What is the expected output of the following code snippet ?**"
      ],
      "metadata": {
        "id": "9XzSVWikUEKa"
      }
    },
    {
      "cell_type": "code",
      "source": [
        "class AlphaDivisionError(ZeroDivisionError):\n",
        "    def __init__(self, message):\n",
        "        ZeroDivisionError.__init__(self, message)\n",
        "\n",
        "def func_div(x,y):\n",
        "    if y==0:\n",
        "        raise ZeroDivisionError(\"Can't divide by zero !\")\n",
        "    elif isinstance(y, str):\n",
        "        raise AlphaDivisionError(\"Can't divide by string !\")\n",
        "    else:\n",
        "        return x/y\n",
        "\n",
        "try:\n",
        "    print(func_div(4,'a'))\n",
        "except ZeroDivisionError as e:\n",
        "    print(str(e))\n",
        "except Exception as e:\n",
        "    print(\"There is an error !\")\n",
        "else:\n",
        "    print('All good !')"
      ],
      "metadata": {
        "colab": {
          "base_uri": "https://localhost:8080/"
        },
        "id": "Xp7ZpunHToY6",
        "outputId": "d9bbe4a5-4578-46ed-a6e8-33a5e99ba5ad"
      },
      "execution_count": 26,
      "outputs": [
        {
          "output_type": "stream",
          "name": "stdout",
          "text": [
            "Can't divide by string !\n"
          ]
        }
      ]
    },
    {
      "cell_type": "markdown",
      "source": [
        "**16. What is the expected output of the following code ?**"
      ],
      "metadata": {
        "id": "Dn7ebXoGUZ2o"
      }
    },
    {
      "cell_type": "code",
      "source": [
        "class Robot:\n",
        "    def __init__(self, name):\n",
        "        self.name = name\n",
        "    def __str__(self):\n",
        "        return \"My name is \" + self.name\n",
        "\n",
        "class Droid(Robot):\n",
        "    def __str__(self):\n",
        "        return \"Hello I am a Droid and my name is \" + self.name\n",
        "\n",
        "R2D2 = Droid(\"R2D2\")\n",
        "print(R2D2)"
      ],
      "metadata": {
        "colab": {
          "base_uri": "https://localhost:8080/"
        },
        "id": "u4F43H4-UdKs",
        "outputId": "9e767329-a3d0-445e-eca2-3810ae5d4466"
      },
      "execution_count": 27,
      "outputs": [
        {
          "output_type": "stream",
          "name": "stdout",
          "text": [
            "Hello I am a Droid and my name is R2D2\n"
          ]
        }
      ]
    },
    {
      "cell_type": "markdown",
      "source": [
        "17. What is the expected output of the following code ?"
      ],
      "metadata": {
        "id": "7sUz-Q1yUiIV"
      }
    },
    {
      "cell_type": "code",
      "source": [
        "class Vegetable:\n",
        "    pass\n",
        "\n",
        "class RootVegetable(Vegetable):\n",
        "    pass\n",
        "\n",
        "class Potato(RootVegetable):\n",
        "    pass\n",
        "\n",
        "print(Potato.__bases__)"
      ],
      "metadata": {
        "colab": {
          "base_uri": "https://localhost:8080/"
        },
        "id": "TizM2O2SUkYM",
        "outputId": "63f48361-c14d-4947-cf88-4be1dcc675c6"
      },
      "execution_count": 28,
      "outputs": [
        {
          "output_type": "stream",
          "name": "stdout",
          "text": [
            "(<class '__main__.RootVegetable'>,)\n"
          ]
        }
      ]
    },
    {
      "cell_type": "markdown",
      "source": [
        "**18.What is the expected output of the following code ?**"
      ],
      "metadata": {
        "id": "HgGhCMMjUp09"
      }
    },
    {
      "cell_type": "code",
      "source": [
        "class Jedi:\n",
        "    LightSaber = 1\n",
        "    def __init__(self):\n",
        "        self.force = 10\n",
        "\n",
        "\n",
        "class Sith(Jedi):\n",
        "    def __init__(self):\n",
        "        self.force = 15\n",
        "\n",
        "class Padawan(Sith):\n",
        "    force = 5\n",
        "    def __init__(self):\n",
        "        super().__init__()\n",
        "\n",
        "Luke = Padawan()\n",
        "\n",
        "print(hasattr(Padawan, 'LightSaber'))\n",
        "print(Luke.force)"
      ],
      "metadata": {
        "colab": {
          "base_uri": "https://localhost:8080/"
        },
        "id": "7e8gE-1wUs3o",
        "outputId": "f019b3b0-a9b0-46b4-8fd2-6a731d12ca7b"
      },
      "execution_count": 29,
      "outputs": [
        {
          "output_type": "stream",
          "name": "stdout",
          "text": [
            "True\n",
            "15\n"
          ]
        }
      ]
    },
    {
      "cell_type": "markdown",
      "source": [
        "1**9. What is the expected output of the following code?**"
      ],
      "metadata": {
        "id": "vd0Cg4SzU0pk"
      }
    },
    {
      "cell_type": "code",
      "source": [
        "x = '\\n\\\\//'\n",
        "print(len(x))"
      ],
      "metadata": {
        "colab": {
          "base_uri": "https://localhost:8080/"
        },
        "id": "5NiIfFvjUybM",
        "outputId": "33d5cf44-1707-46a6-aa2e-44027c0a2909"
      },
      "execution_count": 30,
      "outputs": [
        {
          "output_type": "stream",
          "name": "stdout",
          "text": [
            "4\n"
          ]
        }
      ]
    },
    {
      "cell_type": "code",
      "source": [
        "from random import random\n",
        "from math import floor\n",
        "\n",
        "for i in range(5):\n",
        "    print(floor(random()*10),end=',')"
      ],
      "metadata": {
        "colab": {
          "base_uri": "https://localhost:8080/"
        },
        "id": "xAlIV1hgU5Ck",
        "outputId": "de89cf00-127d-42b1-96ec-deafac8fac48"
      },
      "execution_count": 31,
      "outputs": [
        {
          "output_type": "stream",
          "name": "stdout",
          "text": [
            "0,7,3,5,1,"
          ]
        }
      ]
    },
    {
      "cell_type": "markdown",
      "source": [
        "**22. What will be printed to the monitor ?**"
      ],
      "metadata": {
        "id": "OlKuyeXLVlzg"
      }
    },
    {
      "cell_type": "code",
      "source": [
        "w = 'Luke'\n",
        "x = 'luke'\n",
        "y = '10'\n",
        "z = '5'\n",
        "print(w < x and y < z)\n",
        "print(x > y and w > z)"
      ],
      "metadata": {
        "colab": {
          "base_uri": "https://localhost:8080/"
        },
        "id": "fRzDzLdXVoFa",
        "outputId": "ab743454-8193-4f1a-b052-4e621c8e3a2b"
      },
      "execution_count": 33,
      "outputs": [
        {
          "output_type": "stream",
          "name": "stdout",
          "text": [
            "True\n",
            "True\n"
          ]
        }
      ]
    },
    {
      "cell_type": "markdown",
      "source": [
        "**23. What do you need to replace zzz with to get the following printed to the monitor ?**"
      ],
      "metadata": {
        "id": "Gg_jjBnAV-tZ"
      }
    },
    {
      "cell_type": "code",
      "source": [
        "mylist1 = [x**x for x in range(4)]\n",
        "mylist2 = tuple(filter(lambda x : x % 2 != 0, mylist1)) #zzz\n",
        "\n",
        "print(mylist2)"
      ],
      "metadata": {
        "colab": {
          "base_uri": "https://localhost:8080/"
        },
        "id": "eQW3haBRV94Q",
        "outputId": "3030beb7-edfa-4d49-e20a-59dd4771ba75"
      },
      "execution_count": 34,
      "outputs": [
        {
          "output_type": "stream",
          "name": "stdout",
          "text": [
            "(1, 1, 27)\n"
          ]
        }
      ]
    },
    {
      "cell_type": "markdown",
      "source": [
        "**25. What is the expected output of the following code if the user enters 2 for a, 3 for b and 2 for c ?**"
      ],
      "metadata": {
        "id": "J8gEba3pXIvI"
      }
    },
    {
      "cell_type": "code",
      "source": [
        "a = input(\"Enter a:\")\n",
        "b = input(\"Enter b:\")\n",
        "c = input(\"Enter c:\")\n",
        "print(int(a**b**c))\n"
      ],
      "metadata": {
        "colab": {
          "base_uri": "https://localhost:8080/",
          "height": 263
        },
        "id": "PU2LF2t3XKbY",
        "outputId": "84f1141e-7111-473b-a4d6-ba830950cc35"
      },
      "execution_count": 10,
      "outputs": [
        {
          "name": "stdout",
          "output_type": "stream",
          "text": [
            "Enter a:2\n",
            "Enter b:3\n",
            "Enter c:2\n"
          ]
        },
        {
          "output_type": "error",
          "ename": "TypeError",
          "evalue": "ignored",
          "traceback": [
            "\u001b[0;31m---------------------------------------------------------------------------\u001b[0m",
            "\u001b[0;31mTypeError\u001b[0m                                 Traceback (most recent call last)",
            "\u001b[0;32m<ipython-input-10-30b80d564b53>\u001b[0m in \u001b[0;36m<cell line: 4>\u001b[0;34m()\u001b[0m\n\u001b[1;32m      2\u001b[0m \u001b[0mb\u001b[0m \u001b[0;34m=\u001b[0m \u001b[0minput\u001b[0m\u001b[0;34m(\u001b[0m\u001b[0;34m\"Enter b:\"\u001b[0m\u001b[0;34m)\u001b[0m\u001b[0;34m\u001b[0m\u001b[0;34m\u001b[0m\u001b[0m\n\u001b[1;32m      3\u001b[0m \u001b[0mc\u001b[0m \u001b[0;34m=\u001b[0m \u001b[0minput\u001b[0m\u001b[0;34m(\u001b[0m\u001b[0;34m\"Enter c:\"\u001b[0m\u001b[0;34m)\u001b[0m\u001b[0;34m\u001b[0m\u001b[0;34m\u001b[0m\u001b[0m\n\u001b[0;32m----> 4\u001b[0;31m \u001b[0mprint\u001b[0m\u001b[0;34m(\u001b[0m\u001b[0mint\u001b[0m\u001b[0;34m(\u001b[0m\u001b[0ma\u001b[0m\u001b[0;34m**\u001b[0m\u001b[0mb\u001b[0m\u001b[0;34m**\u001b[0m\u001b[0mc\u001b[0m\u001b[0;34m)\u001b[0m\u001b[0;34m)\u001b[0m\u001b[0;34m\u001b[0m\u001b[0;34m\u001b[0m\u001b[0m\n\u001b[0m",
            "\u001b[0;31mTypeError\u001b[0m: unsupported operand type(s) for ** or pow(): 'str' and 'str'"
          ]
        }
      ]
    },
    {
      "cell_type": "code",
      "source": [
        "import math\n",
        "\n",
        "print(dir(math))"
      ],
      "metadata": {
        "colab": {
          "base_uri": "https://localhost:8080/"
        },
        "id": "lLaqiVz-XzKI",
        "outputId": "32b29cc8-a7b1-4268-d10b-2d4e59e3e0fa"
      },
      "execution_count": 12,
      "outputs": [
        {
          "output_type": "stream",
          "name": "stdout",
          "text": [
            "['__doc__', '__loader__', '__name__', '__package__', '__spec__', 'acos', 'acosh', 'asin', 'asinh', 'atan', 'atan2', 'atanh', 'ceil', 'comb', 'copysign', 'cos', 'cosh', 'degrees', 'dist', 'e', 'erf', 'erfc', 'exp', 'expm1', 'fabs', 'factorial', 'floor', 'fmod', 'frexp', 'fsum', 'gamma', 'gcd', 'hypot', 'inf', 'isclose', 'isfinite', 'isinf', 'isnan', 'isqrt', 'lcm', 'ldexp', 'lgamma', 'log', 'log10', 'log1p', 'log2', 'modf', 'nan', 'nextafter', 'perm', 'pi', 'pow', 'prod', 'radians', 'remainder', 'sin', 'sinh', 'sqrt', 'tan', 'tanh', 'tau', 'trunc', 'ulp']\n"
          ]
        }
      ]
    },
    {
      "cell_type": "markdown",
      "source": [
        "**28. Which code snippet would you replace zzz with to get the following printed to the monitor ?**"
      ],
      "metadata": {
        "id": "_p7NNkfKZReU"
      }
    },
    {
      "cell_type": "code",
      "source": [
        "my_list = ['R2D2', 'C3PO']\n",
        "\n",
        "print('Is Friend With '.join(my_list))  #zzz"
      ],
      "metadata": {
        "colab": {
          "base_uri": "https://localhost:8080/"
        },
        "id": "Yozq8B-PYab7",
        "outputId": "6153c94c-e378-40a8-edb6-8677b3790f82"
      },
      "execution_count": 16,
      "outputs": [
        {
          "output_type": "stream",
          "name": "stdout",
          "text": [
            "R2D2Is Friend With C3PO\n"
          ]
        }
      ]
    },
    {
      "cell_type": "markdown",
      "source": [
        "**29. What is the expected output of the following code ?**"
      ],
      "metadata": {
        "id": "9HSthdpNZkGy"
      }
    },
    {
      "cell_type": "code",
      "source": [
        "def myfunc(x):\n",
        "    try:\n",
        "        y = 1 / x\n",
        "    except ZeroDivisionError:\n",
        "        print(\"Failure\")\n",
        "    except:\n",
        "        print(\"Error\")\n",
        "    else:\n",
        "        print(\"Everything OK\")\n",
        "        return y\n",
        "    finally:\n",
        "        print(\"Completed\")\n",
        "\n",
        "\n",
        "print(myfunc('0'))"
      ],
      "metadata": {
        "colab": {
          "base_uri": "https://localhost:8080/"
        },
        "id": "Ocad2j09ZgnR",
        "outputId": "c24d16e2-d683-401a-ffaa-89c282180ce7"
      },
      "execution_count": 17,
      "outputs": [
        {
          "output_type": "stream",
          "name": "stdout",
          "text": [
            "Error\n",
            "Completed\n",
            "None\n"
          ]
        }
      ]
    },
    {
      "cell_type": "markdown",
      "source": [
        "**30. What is the expected output of the following code snippet ?**"
      ],
      "metadata": {
        "id": "3q0RSr34Zy7T"
      }
    },
    {
      "cell_type": "code",
      "source": [
        "class Sith:\n",
        "    darkside= True\n",
        "    def __init__(self, x, y):\n",
        "        self.name = x\n",
        "        self.lightsaber = 1\n",
        "        self.__son = y\n",
        "    def __str__(self):\n",
        "        return self.name\n",
        "\n",
        "Vader = Sith(\"Vader\", \"Luke\")\n",
        "Vader.__daughter = 'Leia'\n",
        "print(Vader.__dict__)"
      ],
      "metadata": {
        "colab": {
          "base_uri": "https://localhost:8080/"
        },
        "id": "IlnNml7aZp5d",
        "outputId": "91addd08-2e5f-4436-a2c7-8200b90f4307"
      },
      "execution_count": 18,
      "outputs": [
        {
          "output_type": "stream",
          "name": "stdout",
          "text": [
            "{'name': 'Vader', 'lightsaber': 1, '_Sith__son': 'Luke', '__daughter': 'Leia'}\n"
          ]
        }
      ]
    },
    {
      "cell_type": "markdown",
      "source": [
        "**31. What will be the result of executing the following code?**"
      ],
      "metadata": {
        "id": "1Xrx4fSdZ8Yu"
      }
    },
    {
      "cell_type": "code",
      "source": [
        "class Jedi:\n",
        "    Force = 0\n",
        "    def __init__(self,name):\n",
        "        Jedi.Force +=1\n",
        "        self.name = name\n",
        "    def __str__(self):\n",
        "        return \"I am master Jedi \" + self.name\n",
        "\n",
        "class Padawan(Jedi):\n",
        "    def print(self):\n",
        "        return \"I am a Padawan\"\n",
        "\n",
        "Luke=Jedi('Luke')\n",
        "Ben=Jedi('Ben')\n",
        "Baby_Yoda=Padawan('Baby Yoda')\n",
        "print(Jedi.Force)\n",
        "print(Baby_Yoda)"
      ],
      "metadata": {
        "colab": {
          "base_uri": "https://localhost:8080/"
        },
        "id": "M1kAb_8MZ2on",
        "outputId": "f7723a48-8f1a-49eb-e248-f47ff864ed75"
      },
      "execution_count": 19,
      "outputs": [
        {
          "output_type": "stream",
          "name": "stdout",
          "text": [
            "3\n",
            "I am master Jedi Baby Yoda\n"
          ]
        }
      ]
    },
    {
      "cell_type": "markdown",
      "source": [
        "**32. What will be the result of executing the following code?**"
      ],
      "metadata": {
        "id": "k1SQtTqyZ-Z-"
      }
    },
    {
      "cell_type": "code",
      "source": [
        "class Robot:\n",
        "    def t(self):\n",
        "        print('Robot')\n",
        "\n",
        "class Droid:\n",
        "    def t(self):\n",
        "        print('Droid')\n",
        "\n",
        "class ProtoDroid(Droid, Robot):\n",
        "    def f(self):\n",
        "        self.t()\n",
        "\n",
        "R2D2 = ProtoDroid()\n",
        "R2D2.f()"
      ],
      "metadata": {
        "colab": {
          "base_uri": "https://localhost:8080/"
        },
        "id": "1BEnx9MqaBk9",
        "outputId": "e3896f62-f9b0-41bd-b262-94e5661aed86"
      },
      "execution_count": 20,
      "outputs": [
        {
          "output_type": "stream",
          "name": "stdout",
          "text": [
            "Droid\n"
          ]
        }
      ]
    },
    {
      "cell_type": "markdown",
      "source": [
        "**33. What is the output of the following snippet**"
      ],
      "metadata": {
        "id": "f05vwuoPaHo3"
      }
    },
    {
      "cell_type": "code",
      "source": [
        "def myfunc(n):\n",
        "    res = 1\n",
        "    for i in range(n,n+2,1):\n",
        "        yield res\n",
        "        res*= 2\n",
        "\n",
        "y = [x for x in myfunc(3)]\n",
        "\n",
        "print(y)"
      ],
      "metadata": {
        "colab": {
          "base_uri": "https://localhost:8080/"
        },
        "id": "Xk3GlmPAaEtG",
        "outputId": "84d1d6e4-a159-45fc-aaec-2d87fc843fb1"
      },
      "execution_count": 21,
      "outputs": [
        {
          "output_type": "stream",
          "name": "stdout",
          "text": [
            "[1, 2]\n"
          ]
        }
      ]
    },
    {
      "cell_type": "markdown",
      "source": [
        "**34. What is the expected output of the following code?**"
      ],
      "metadata": {
        "id": "_no4QyOXaRFr"
      }
    },
    {
      "cell_type": "code",
      "source": [
        "my_str = \"No, I am your father !\"\n",
        "z = my_str.find(\"a\",7,14)\n",
        "print(z)"
      ],
      "metadata": {
        "colab": {
          "base_uri": "https://localhost:8080/"
        },
        "id": "sPYSJXqKaMpo",
        "outputId": "1a8b1523-0300-4706-d48b-e249e501ab50"
      },
      "execution_count": 22,
      "outputs": [
        {
          "output_type": "stream",
          "name": "stdout",
          "text": [
            "-1\n"
          ]
        }
      ]
    },
    {
      "cell_type": "markdown",
      "source": [
        "**35. What is the expected output of the following snippet ?**"
      ],
      "metadata": {
        "id": "NOmmDqzxaZ08"
      }
    },
    {
      "cell_type": "code",
      "source": [
        "def list_func(x):\n",
        "    try:\n",
        "        return x[4]/x[-1]\n",
        "    except ZeroDivisionError:\n",
        "        print(\"Function Error #1\")\n",
        "        raise\n",
        "    except IndexError:\n",
        "        print(\"Function Error #2\")\n",
        "        raise\n",
        "    except:\n",
        "        print(\"Function Error #3\")\n",
        "        raise\n",
        "\n",
        "my_list=[3,4,1,0]\n",
        "try:\n",
        "    print(list_func(my_list))\n",
        "except LookupError:\n",
        "    print(\"Program Error #1\")\n",
        "except ArithmeticError:\n",
        "    print(\"Program Error #2\")\n",
        "except:\n",
        "    print(\"Program Error #3\")"
      ],
      "metadata": {
        "colab": {
          "base_uri": "https://localhost:8080/"
        },
        "id": "2XFypxL_aXpV",
        "outputId": "5acce47f-896b-4940-9feb-487f2447befa"
      },
      "execution_count": 23,
      "outputs": [
        {
          "output_type": "stream",
          "name": "stdout",
          "text": [
            "Function Error #2\n",
            "Program Error #1\n"
          ]
        }
      ]
    },
    {
      "cell_type": "markdown",
      "source": [
        "**36. What is the expected output of the following code snippet ?**"
      ],
      "metadata": {
        "id": "0PP9aCdmag6P"
      }
    },
    {
      "cell_type": "code",
      "source": [
        "def sum_list(args, fun):\n",
        "    z = 0\n",
        "    for x in args:\n",
        "        z = z + fun(x)\n",
        "    return z\n",
        "\n",
        "print(sum_list([ex//2 for ex in range(5)], lambda x: 1 if x>1 else 0))"
      ],
      "metadata": {
        "colab": {
          "base_uri": "https://localhost:8080/"
        },
        "id": "J9LWt-_0afE7",
        "outputId": "ba37330c-e9d4-49e1-fa95-765c81c213d6"
      },
      "execution_count": 24,
      "outputs": [
        {
          "output_type": "stream",
          "name": "stdout",
          "text": [
            "1\n"
          ]
        }
      ]
    },
    {
      "cell_type": "code",
      "source": [
        "class Jedi:\n",
        "    def __init__(self):\n",
        "        self.force = 10\n",
        "\n",
        "class Sith:\n",
        "    def __init__(self):\n",
        "        self.force = 15\n",
        "        self.bases = 1\n",
        "\n",
        "class Padawan(Sith, Jedi):\n",
        "    def __init__(self):\n",
        "        super().__init__()\n",
        "\n",
        "Luke=Padawan()\n",
        "print(Luke.__bases__)"
      ],
      "metadata": {
        "colab": {
          "base_uri": "https://localhost:8080/",
          "height": 211
        },
        "id": "cMGPBPO_alUL",
        "outputId": "2fe57f49-8eb2-4e7d-ead7-2f84a251cc79"
      },
      "execution_count": 25,
      "outputs": [
        {
          "output_type": "error",
          "ename": "AttributeError",
          "evalue": "ignored",
          "traceback": [
            "\u001b[0;31m---------------------------------------------------------------------------\u001b[0m",
            "\u001b[0;31mAttributeError\u001b[0m                            Traceback (most recent call last)",
            "\u001b[0;32m<ipython-input-25-05467b67a87f>\u001b[0m in \u001b[0;36m<cell line: 15>\u001b[0;34m()\u001b[0m\n\u001b[1;32m     13\u001b[0m \u001b[0;34m\u001b[0m\u001b[0m\n\u001b[1;32m     14\u001b[0m \u001b[0mLuke\u001b[0m\u001b[0;34m=\u001b[0m\u001b[0mPadawan\u001b[0m\u001b[0;34m(\u001b[0m\u001b[0;34m)\u001b[0m\u001b[0;34m\u001b[0m\u001b[0;34m\u001b[0m\u001b[0m\n\u001b[0;32m---> 15\u001b[0;31m \u001b[0mprint\u001b[0m\u001b[0;34m(\u001b[0m\u001b[0mLuke\u001b[0m\u001b[0;34m.\u001b[0m\u001b[0m__bases__\u001b[0m\u001b[0;34m)\u001b[0m\u001b[0;34m\u001b[0m\u001b[0;34m\u001b[0m\u001b[0m\n\u001b[0m",
            "\u001b[0;31mAttributeError\u001b[0m: 'Padawan' object has no attribute '__bases__'"
          ]
        }
      ]
    },
    {
      "cell_type": "markdown",
      "source": [
        "**38. Which output below is a possible output of the above code ?**"
      ],
      "metadata": {
        "id": "QrXFGgA0awXK"
      }
    },
    {
      "cell_type": "code",
      "source": [
        "from random import sample\n",
        "\n",
        "list_1 = [x << 1 for x in range(1,12,3)]\n",
        "list_2 = sample(list_1, 3)\n",
        "list_3 = list(filter(lambda x: x > 3, list_2))\n",
        "print(list_3)"
      ],
      "metadata": {
        "colab": {
          "base_uri": "https://localhost:8080/"
        },
        "id": "6FyF-VA1atK_",
        "outputId": "3bfe873e-9331-435f-c7b0-809248ad8d2d"
      },
      "execution_count": 26,
      "outputs": [
        {
          "output_type": "stream",
          "name": "stdout",
          "text": [
            "[14, 20, 8]\n"
          ]
        }
      ]
    },
    {
      "cell_type": "markdown",
      "source": [
        "**39. What is the expected output of the following code ?**"
      ],
      "metadata": {
        "id": "duQPWQ62a7hO"
      }
    },
    {
      "cell_type": "code",
      "source": [
        "class Jedi:\n",
        "    def __init__(self, name):\n",
        "        self.name = name\n",
        "\n",
        "    def set_force(self, val):\n",
        "        self.__force = val\n",
        "\n",
        "Luke = Jedi('Luke')\n",
        "Luke.set_force(10)\n",
        "Luke.lightsaber = True\n",
        "\n",
        "print(Luke.__dict__)"
      ],
      "metadata": {
        "colab": {
          "base_uri": "https://localhost:8080/"
        },
        "id": "0bs2f3ZKa3yz",
        "outputId": "60fa3dfb-d660-4a32-8eb7-d92232bf40df"
      },
      "execution_count": 27,
      "outputs": [
        {
          "output_type": "stream",
          "name": "stdout",
          "text": [
            "{'name': 'Luke', '_Jedi__force': 10, 'lightsaber': True}\n"
          ]
        }
      ]
    },
    {
      "cell_type": "markdown",
      "source": [
        "**40. What is the expected output of the following code?**"
      ],
      "metadata": {
        "id": "u-aoIbUqbCvo"
      }
    },
    {
      "cell_type": "code",
      "source": [
        "def my_func(x,y):\n",
        "    return x / y\n",
        "\n",
        "try:\n",
        "    my_func(5,0)\n",
        "except ArithmeticError:\n",
        "    print(\"A\")\n",
        "except ZeroDivisionError:\n",
        "    print(\"B\")\n",
        "else:\n",
        "    print(\"C\")\n",
        "finally:\n",
        "    print(\"D\")"
      ],
      "metadata": {
        "colab": {
          "base_uri": "https://localhost:8080/"
        },
        "id": "vDtl7KxnbAou",
        "outputId": "bf2a64d8-907b-4290-86e3-8fc3ee6fe9ca"
      },
      "execution_count": 28,
      "outputs": [
        {
          "output_type": "stream",
          "name": "stdout",
          "text": [
            "A\n",
            "D\n"
          ]
        }
      ]
    }
  ]
}