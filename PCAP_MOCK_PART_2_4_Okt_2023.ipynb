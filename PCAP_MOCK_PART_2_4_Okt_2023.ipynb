{
  "nbformat": 4,
  "nbformat_minor": 0,
  "metadata": {
    "colab": {
      "provenance": [],
      "authorship_tag": "ABX9TyNcwzIlPxyrPKSdnU0RPLBQ",
      "include_colab_link": true
    },
    "kernelspec": {
      "name": "python3",
      "display_name": "Python 3"
    },
    "language_info": {
      "name": "python"
    }
  },
  "cells": [
    {
      "cell_type": "markdown",
      "metadata": {
        "id": "view-in-github",
        "colab_type": "text"
      },
      "source": [
        "<a href=\"https://colab.research.google.com/github/Vicysaragih/PCAP_VICY/blob/main/PCAP_MOCK_PART_2_4_Okt_2023.ipynb\" target=\"_parent\"><img src=\"https://colab.research.google.com/assets/colab-badge.svg\" alt=\"Open In Colab\"/></a>"
      ]
    },
    {
      "cell_type": "code",
      "execution_count": 6,
      "metadata": {
        "colab": {
          "base_uri": "https://localhost:8080/"
        },
        "id": "gPAn3sowNffC",
        "outputId": "0164bd69-1844-4d97-fe63-65c52f5fca74"
      },
      "outputs": [
        {
          "output_type": "stream",
          "name": "stdout",
          "text": [
            "False\n"
          ]
        }
      ],
      "source": [
        " #Number 1\n",
        " class Car:\n",
        "\tdef __init__ (self, x, y):\n",
        "\t\tself.none = x\n",
        "\t\tself.price = y\n",
        "obj1 = Car(\"Audi\", 200)\n",
        "obj2 = Car(\"Audi\", 200)\n",
        "print(obj1 == obj2)\n",
        "\n",
        "#The Answere will False if obj is different event the value are same"
      ]
    },
    {
      "cell_type": "code",
      "source": [
        "#Number 2\n",
        "\n",
        "var1 = \"5555\"   #variable 1 at var1(5) compare with variable 1 at var2(5)\n",
        "var2 = \"56\"     #Then variable 2 at var1(5) compare with variable 2 at var2(6)\n",
        "print(var2 > var1)\n",
        "\n",
        "var1 = \"5555\"\n",
        "var2 = \"55\"\n",
        "print(var2 > var1)\n",
        "\n",
        "var1 = \"5555\"\n",
        "var2 = \"54\"\n",
        "print(var2 > var1)"
      ],
      "metadata": {
        "colab": {
          "base_uri": "https://localhost:8080/"
        },
        "id": "yIjAqEVnPrJF",
        "outputId": "4bc59b44-1381-4cf0-ff6a-75c350c2b588"
      },
      "execution_count": 8,
      "outputs": [
        {
          "output_type": "stream",
          "name": "stdout",
          "text": [
            "True\n",
            "False\n",
            "False\n"
          ]
        }
      ]
    },
    {
      "cell_type": "code",
      "source": [
        " #Number 3\n",
        " for i in range (9):\n",
        "\tpass\n",
        "print(i)\n",
        "\n",
        "#Range is 9 so we count 0 to 8."
      ],
      "metadata": {
        "colab": {
          "base_uri": "https://localhost:8080/"
        },
        "id": "VBQB8lnlQwml",
        "outputId": "9e155297-4488-4b82-b8c9-43cd5a9381bc"
      },
      "execution_count": 11,
      "outputs": [
        {
          "output_type": "stream",
          "name": "stdout",
          "text": [
            "8\n"
          ]
        }
      ]
    },
    {
      "cell_type": "code",
      "source": [
        "#choose the correcr number of static, local or instance variables\n",
        "\n",
        "class Animal:\n",
        "\tprice= 500 #Static variable (price)\n",
        "\tdef__init__(self, x): #Local variables (self and x)\n",
        "\t\tself.breed = x #instance variables (breed)\n",
        "\tdef name_me(self, y): #Local variables (self and y)\n",
        "\t\tself.name = y #instance variables (name)\n",
        "\n",
        "# static = 1\n",
        "# local = 4\n",
        "# instance = 2"
      ],
      "metadata": {
        "id": "CSdQlmeJT0TN"
      },
      "execution_count": null,
      "outputs": []
    },
    {
      "cell_type": "code",
      "source": [
        "import copy\n",
        "list1 = [10, 20, 30, ['A', 'B', 'C']]\n",
        "list2 = list1.copy()\n",
        "list3 = copy.deepcopy(list1)\n",
        "list1[3][1] =000\n",
        "list1[1] = 000\n",
        "print(list1)\n",
        "print(list2)\n",
        "print(list3)"
      ],
      "metadata": {
        "colab": {
          "base_uri": "https://localhost:8080/"
        },
        "id": "sU3d99B0XSo7",
        "outputId": "18717680-d4ec-4211-b4ff-08df399cf839"
      },
      "execution_count": 17,
      "outputs": [
        {
          "output_type": "stream",
          "name": "stdout",
          "text": [
            "[10, 0, 30, ['A', 0, 'C']]\n",
            "[10, 20, 30, ['A', 0, 'C']]\n",
            "[10, 20, 30, ['A', 'B', 'C']]\n"
          ]
        }
      ]
    },
    {
      "cell_type": "code",
      "source": [
        "import copy\n",
        "list1 = [10, 20, 30, ['A', 'B', 'C']]\n",
        "list2 = list1.copy()\n",
        "list3 = copy.deepcopy(list1)\n",
        "list1[3][2] = 000\n",
        "list1[2] = 000\n",
        "print(list1)\n",
        "print(list2)\n",
        "print(list3)"
      ],
      "metadata": {
        "colab": {
          "base_uri": "https://localhost:8080/"
        },
        "id": "am4n28EfXoY5",
        "outputId": "4bbee6ad-6042-42f3-dae3-04cab6a75e7a"
      },
      "execution_count": 18,
      "outputs": [
        {
          "output_type": "stream",
          "name": "stdout",
          "text": [
            "[10, 20, 0, ['A', 'B', 0]]\n",
            "[10, 20, 30, ['A', 'B', 0]]\n",
            "[10, 20, 30, ['A', 'B', 'C']]\n"
          ]
        }
      ]
    },
    {
      "cell_type": "code",
      "source": [
        "try:\n",
        "\tprint(VICY)\n",
        "except NameError:\n",
        "\tprint(\" Something went wrong\")\n",
        "except NameError:\n",
        "\tprint(\"everithing went wrong\")\n",
        "finally:\n",
        "\tprint(\"end of code\")"
      ],
      "metadata": {
        "colab": {
          "base_uri": "https://localhost:8080/"
        },
        "id": "ejiYzbuYZM3K",
        "outputId": "afe7647a-42cf-4c7d-bce5-edd87c032f07"
      },
      "execution_count": 19,
      "outputs": [
        {
          "output_type": "stream",
          "name": "stdout",
          "text": [
            " Something went wrong\n",
            "end of code\n"
          ]
        }
      ]
    },
    {
      "cell_type": "code",
      "source": [
        "def say(p, q=42, r=5, s=28):\n",
        "\tprint('p :', p, 'q :', q, 'r : ', r, 's :', s)\n",
        "say(48, (45, 39), s = 30)"
      ],
      "metadata": {
        "colab": {
          "base_uri": "https://localhost:8080/"
        },
        "id": "qaZ_Y5cojQRN",
        "outputId": "7b2cc416-709c-47e5-da6b-f9e237e99fba"
      },
      "execution_count": 21,
      "outputs": [
        {
          "output_type": "stream",
          "name": "stdout",
          "text": [
            "p : 48 q : (45, 39) r :  5 s : 30\n"
          ]
        }
      ]
    },
    {
      "cell_type": "code",
      "source": [
        "T = ('a', 'b', 'c', 'd', 'e')\n",
        "L = range (0, 5)\n",
        "for i in L:\n",
        "\tprint(ord(T[i]), end = \" \")\n",
        "\tif i >= 3:\n",
        "\t\tbreak"
      ],
      "metadata": {
        "colab": {
          "base_uri": "https://localhost:8080/"
        },
        "id": "csLRFZzxjQa9",
        "outputId": "de2c8bc0-4713-4114-ead2-3a636d27e810"
      },
      "execution_count": 23,
      "outputs": [
        {
          "output_type": "stream",
          "name": "stdout",
          "text": [
            "97 98 99 100 "
          ]
        }
      ]
    },
    {
      "cell_type": "code",
      "source": [
        "T = ('a', 'b', 'c', 'd', 'e')\n",
        "L = range (1, 5)\n",
        "for i in L:\n",
        "\tprint(ord(T[i]), end = \" \")\n",
        "\tif i >= 5:\n",
        "\t\tbreak"
      ],
      "metadata": {
        "colab": {
          "base_uri": "https://localhost:8080/"
        },
        "id": "HyXVFOIUlu36",
        "outputId": "1824b3b2-4911-460d-8545-97efb1610305"
      },
      "execution_count": 27,
      "outputs": [
        {
          "output_type": "stream",
          "name": "stdout",
          "text": [
            "98 99 100 101 "
          ]
        }
      ]
    },
    {
      "cell_type": "code",
      "source": [
        "T = ('a', 'b', 'c', 'd', 'e')\n",
        "L = range (1, 4)\n",
        "for i in L:\n",
        "\tprint(ord(T[i]), end = \" \")\n",
        "\tif i >= 5:\n",
        "\t\tbreak"
      ],
      "metadata": {
        "colab": {
          "base_uri": "https://localhost:8080/"
        },
        "id": "AbkPovRsl-ux",
        "outputId": "38d08ee1-1f76-4498-ff25-c9db7cc0e5ad"
      },
      "execution_count": 28,
      "outputs": [
        {
          "output_type": "stream",
          "name": "stdout",
          "text": [
            "98 99 100 "
          ]
        }
      ]
    }
  ]
}